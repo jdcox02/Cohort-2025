{
  "nbformat": 4,
  "nbformat_minor": 0,
  "metadata": {
    "colab": {
      "provenance": [],
      "collapsed_sections": [
        "APZxuPlnT8mz",
        "DYBg5tJsw_kr"
      ]
    },
    "kernelspec": {
      "name": "python3",
      "display_name": "Python 3"
    },
    "language_info": {
      "name": "python"
    }
  },
  "cells": [
    {
      "cell_type": "markdown",
      "source": [
        "## Qualitative coding using openai\n",
        "\n",
        "- Prompt 1 (Zero shot):input the entire codebook, including a table that has parent code, parent code description, child code, and child code description; use the GPT to label both child and parent code for each document; if non child code work, just label the parent code.\n",
        "\n",
        "- Prompt 2 (Chain of thoughts):  Step 1: label all parent codes with reasoning; Step 2; label child code within each parent code. if none of the child code work, just keep the parent code."
      ],
      "metadata": {
        "id": "JLEFr8mYS8Wu"
      }
    },
    {
      "cell_type": "code",
      "source": [
        "# install openai library\n",
        "#pip install openai\n",
        "!pip install langchain==0.0.316\n",
        "!pip install openai"
      ],
      "metadata": {
        "id": "tC8Ks9Yio3V3",
        "colab": {
          "base_uri": "https://localhost:8080/"
        },
        "outputId": "e24312ad-3b12-4212-8af3-972406954247",
        "collapsed": true
      },
      "execution_count": 3,
      "outputs": [
        {
          "output_type": "stream",
          "name": "stdout",
          "text": [
            "Requirement already satisfied: langchain==0.0.316 in /usr/local/lib/python3.11/dist-packages (0.0.316)\n",
            "Requirement already satisfied: PyYAML>=5.3 in /usr/local/lib/python3.11/dist-packages (from langchain==0.0.316) (6.0.2)\n",
            "Requirement already satisfied: SQLAlchemy<3,>=1.4 in /usr/local/lib/python3.11/dist-packages (from langchain==0.0.316) (2.0.38)\n",
            "Requirement already satisfied: aiohttp<4.0.0,>=3.8.3 in /usr/local/lib/python3.11/dist-packages (from langchain==0.0.316) (3.11.13)\n",
            "Requirement already satisfied: anyio<4.0 in /usr/local/lib/python3.11/dist-packages (from langchain==0.0.316) (3.7.1)\n",
            "Requirement already satisfied: dataclasses-json<0.7,>=0.5.7 in /usr/local/lib/python3.11/dist-packages (from langchain==0.0.316) (0.6.7)\n",
            "Requirement already satisfied: jsonpatch<2.0,>=1.33 in /usr/local/lib/python3.11/dist-packages (from langchain==0.0.316) (1.33)\n",
            "Requirement already satisfied: langsmith<0.1.0,>=0.0.43 in /usr/local/lib/python3.11/dist-packages (from langchain==0.0.316) (0.0.92)\n",
            "Requirement already satisfied: numpy<2,>=1 in /usr/local/lib/python3.11/dist-packages (from langchain==0.0.316) (1.26.4)\n",
            "Requirement already satisfied: pydantic<3,>=1 in /usr/local/lib/python3.11/dist-packages (from langchain==0.0.316) (2.10.6)\n",
            "Requirement already satisfied: requests<3,>=2 in /usr/local/lib/python3.11/dist-packages (from langchain==0.0.316) (2.32.3)\n",
            "Requirement already satisfied: tenacity<9.0.0,>=8.1.0 in /usr/local/lib/python3.11/dist-packages (from langchain==0.0.316) (8.5.0)\n",
            "Requirement already satisfied: aiohappyeyeballs>=2.3.0 in /usr/local/lib/python3.11/dist-packages (from aiohttp<4.0.0,>=3.8.3->langchain==0.0.316) (2.5.0)\n",
            "Requirement already satisfied: aiosignal>=1.1.2 in /usr/local/lib/python3.11/dist-packages (from aiohttp<4.0.0,>=3.8.3->langchain==0.0.316) (1.3.2)\n",
            "Requirement already satisfied: attrs>=17.3.0 in /usr/local/lib/python3.11/dist-packages (from aiohttp<4.0.0,>=3.8.3->langchain==0.0.316) (25.1.0)\n",
            "Requirement already satisfied: frozenlist>=1.1.1 in /usr/local/lib/python3.11/dist-packages (from aiohttp<4.0.0,>=3.8.3->langchain==0.0.316) (1.5.0)\n",
            "Requirement already satisfied: multidict<7.0,>=4.5 in /usr/local/lib/python3.11/dist-packages (from aiohttp<4.0.0,>=3.8.3->langchain==0.0.316) (6.1.0)\n",
            "Requirement already satisfied: propcache>=0.2.0 in /usr/local/lib/python3.11/dist-packages (from aiohttp<4.0.0,>=3.8.3->langchain==0.0.316) (0.3.0)\n",
            "Requirement already satisfied: yarl<2.0,>=1.17.0 in /usr/local/lib/python3.11/dist-packages (from aiohttp<4.0.0,>=3.8.3->langchain==0.0.316) (1.18.3)\n",
            "Requirement already satisfied: idna>=2.8 in /usr/local/lib/python3.11/dist-packages (from anyio<4.0->langchain==0.0.316) (3.10)\n",
            "Requirement already satisfied: sniffio>=1.1 in /usr/local/lib/python3.11/dist-packages (from anyio<4.0->langchain==0.0.316) (1.3.1)\n",
            "Requirement already satisfied: marshmallow<4.0.0,>=3.18.0 in /usr/local/lib/python3.11/dist-packages (from dataclasses-json<0.7,>=0.5.7->langchain==0.0.316) (3.26.1)\n",
            "Requirement already satisfied: typing-inspect<1,>=0.4.0 in /usr/local/lib/python3.11/dist-packages (from dataclasses-json<0.7,>=0.5.7->langchain==0.0.316) (0.9.0)\n",
            "Requirement already satisfied: jsonpointer>=1.9 in /usr/local/lib/python3.11/dist-packages (from jsonpatch<2.0,>=1.33->langchain==0.0.316) (3.0.0)\n",
            "Requirement already satisfied: annotated-types>=0.6.0 in /usr/local/lib/python3.11/dist-packages (from pydantic<3,>=1->langchain==0.0.316) (0.7.0)\n",
            "Requirement already satisfied: pydantic-core==2.27.2 in /usr/local/lib/python3.11/dist-packages (from pydantic<3,>=1->langchain==0.0.316) (2.27.2)\n",
            "Requirement already satisfied: typing-extensions>=4.12.2 in /usr/local/lib/python3.11/dist-packages (from pydantic<3,>=1->langchain==0.0.316) (4.12.2)\n",
            "Requirement already satisfied: charset-normalizer<4,>=2 in /usr/local/lib/python3.11/dist-packages (from requests<3,>=2->langchain==0.0.316) (3.4.1)\n",
            "Requirement already satisfied: urllib3<3,>=1.21.1 in /usr/local/lib/python3.11/dist-packages (from requests<3,>=2->langchain==0.0.316) (2.3.0)\n",
            "Requirement already satisfied: certifi>=2017.4.17 in /usr/local/lib/python3.11/dist-packages (from requests<3,>=2->langchain==0.0.316) (2025.1.31)\n",
            "Requirement already satisfied: greenlet!=0.4.17 in /usr/local/lib/python3.11/dist-packages (from SQLAlchemy<3,>=1.4->langchain==0.0.316) (3.1.1)\n",
            "Requirement already satisfied: packaging>=17.0 in /usr/local/lib/python3.11/dist-packages (from marshmallow<4.0.0,>=3.18.0->dataclasses-json<0.7,>=0.5.7->langchain==0.0.316) (24.2)\n",
            "Requirement already satisfied: mypy-extensions>=0.3.0 in /usr/local/lib/python3.11/dist-packages (from typing-inspect<1,>=0.4.0->dataclasses-json<0.7,>=0.5.7->langchain==0.0.316) (1.0.0)\n",
            "Collecting openai\n",
            "  Downloading openai-1.66.2-py3-none-any.whl.metadata (25 kB)\n",
            "Requirement already satisfied: anyio<5,>=3.5.0 in /usr/local/lib/python3.11/dist-packages (from openai) (3.7.1)\n",
            "Requirement already satisfied: distro<2,>=1.7.0 in /usr/local/lib/python3.11/dist-packages (from openai) (1.9.0)\n",
            "Requirement already satisfied: httpx<1,>=0.23.0 in /usr/local/lib/python3.11/dist-packages (from openai) (0.28.1)\n",
            "Requirement already satisfied: jiter<1,>=0.4.0 in /usr/local/lib/python3.11/dist-packages (from openai) (0.8.2)\n",
            "Requirement already satisfied: pydantic<3,>=1.9.0 in /usr/local/lib/python3.11/dist-packages (from openai) (2.10.6)\n",
            "Requirement already satisfied: sniffio in /usr/local/lib/python3.11/dist-packages (from openai) (1.3.1)\n",
            "Requirement already satisfied: tqdm>4 in /usr/local/lib/python3.11/dist-packages (from openai) (4.67.1)\n",
            "Requirement already satisfied: typing-extensions<5,>=4.11 in /usr/local/lib/python3.11/dist-packages (from openai) (4.12.2)\n",
            "Requirement already satisfied: idna>=2.8 in /usr/local/lib/python3.11/dist-packages (from anyio<5,>=3.5.0->openai) (3.10)\n",
            "Requirement already satisfied: certifi in /usr/local/lib/python3.11/dist-packages (from httpx<1,>=0.23.0->openai) (2025.1.31)\n",
            "Requirement already satisfied: httpcore==1.* in /usr/local/lib/python3.11/dist-packages (from httpx<1,>=0.23.0->openai) (1.0.7)\n",
            "Requirement already satisfied: h11<0.15,>=0.13 in /usr/local/lib/python3.11/dist-packages (from httpcore==1.*->httpx<1,>=0.23.0->openai) (0.14.0)\n",
            "Requirement already satisfied: annotated-types>=0.6.0 in /usr/local/lib/python3.11/dist-packages (from pydantic<3,>=1.9.0->openai) (0.7.0)\n",
            "Requirement already satisfied: pydantic-core==2.27.2 in /usr/local/lib/python3.11/dist-packages (from pydantic<3,>=1.9.0->openai) (2.27.2)\n",
            "Downloading openai-1.66.2-py3-none-any.whl (567 kB)\n",
            "\u001b[2K   \u001b[90m━━━━━━━━━━━━━━━━━━━━━━━━━━━━━━━━━━━━━━━━\u001b[0m \u001b[32m567.3/567.3 kB\u001b[0m \u001b[31m15.6 MB/s\u001b[0m eta \u001b[36m0:00:00\u001b[0m\n",
            "\u001b[?25hInstalling collected packages: openai\n",
            "Successfully installed openai-1.66.2\n"
          ]
        }
      ]
    },
    {
      "cell_type": "code",
      "execution_count": 1,
      "metadata": {
        "id": "snJSYeRH2NZ-"
      },
      "outputs": [],
      "source": [
        "import pandas as pd\n",
        "import openai\n",
        "from openai import OpenAI\n",
        "import os\n",
        "import ast\n",
        "import time\n",
        "import numpy as np\n",
        "import json\n",
        "from IPython.display import clear_output\n",
        "from tqdm import tqdm\n",
        "import re"
      ]
    },
    {
      "cell_type": "code",
      "source": [
        "tqdm.pandas()"
      ],
      "metadata": {
        "id": "JKb_wsgh5K5o"
      },
      "execution_count": 2,
      "outputs": []
    },
    {
      "cell_type": "code",
      "source": [
        "# Set work directory\n",
        "from google.colab import drive\n",
        "drive.mount('/content/drive')"
      ],
      "metadata": {
        "colab": {
          "base_uri": "https://localhost:8080/"
        },
        "id": "EIVlyZ3-7rzC",
        "outputId": "1ce37dc3-d0e9-44b5-ceed-9e3e27125988"
      },
      "execution_count": 3,
      "outputs": [
        {
          "output_type": "stream",
          "name": "stdout",
          "text": [
            "Mounted at /content/drive\n"
          ]
        }
      ]
    },
    {
      "cell_type": "code",
      "source": [
        "from google.colab import files\n",
        "uploaded = files.upload()"
      ],
      "metadata": {
        "colab": {
          "base_uri": "https://localhost:8080/",
          "height": 74
        },
        "id": "hJfQEPGPgzpL",
        "outputId": "089804f4-4208-4f2c-d346-56bdcf8f8ec1"
      },
      "execution_count": 4,
      "outputs": [
        {
          "output_type": "display_data",
          "data": {
            "text/plain": [
              "<IPython.core.display.HTML object>"
            ],
            "text/html": [
              "\n",
              "     <input type=\"file\" id=\"files-c66ba23a-519c-47c6-84c6-f35e98105fd7\" name=\"files[]\" multiple disabled\n",
              "        style=\"border:none\" />\n",
              "     <output id=\"result-c66ba23a-519c-47c6-84c6-f35e98105fd7\">\n",
              "      Upload widget is only available when the cell has been executed in the\n",
              "      current browser session. Please rerun this cell to enable.\n",
              "      </output>\n",
              "      <script>// Copyright 2017 Google LLC\n",
              "//\n",
              "// Licensed under the Apache License, Version 2.0 (the \"License\");\n",
              "// you may not use this file except in compliance with the License.\n",
              "// You may obtain a copy of the License at\n",
              "//\n",
              "//      http://www.apache.org/licenses/LICENSE-2.0\n",
              "//\n",
              "// Unless required by applicable law or agreed to in writing, software\n",
              "// distributed under the License is distributed on an \"AS IS\" BASIS,\n",
              "// WITHOUT WARRANTIES OR CONDITIONS OF ANY KIND, either express or implied.\n",
              "// See the License for the specific language governing permissions and\n",
              "// limitations under the License.\n",
              "\n",
              "/**\n",
              " * @fileoverview Helpers for google.colab Python module.\n",
              " */\n",
              "(function(scope) {\n",
              "function span(text, styleAttributes = {}) {\n",
              "  const element = document.createElement('span');\n",
              "  element.textContent = text;\n",
              "  for (const key of Object.keys(styleAttributes)) {\n",
              "    element.style[key] = styleAttributes[key];\n",
              "  }\n",
              "  return element;\n",
              "}\n",
              "\n",
              "// Max number of bytes which will be uploaded at a time.\n",
              "const MAX_PAYLOAD_SIZE = 100 * 1024;\n",
              "\n",
              "function _uploadFiles(inputId, outputId) {\n",
              "  const steps = uploadFilesStep(inputId, outputId);\n",
              "  const outputElement = document.getElementById(outputId);\n",
              "  // Cache steps on the outputElement to make it available for the next call\n",
              "  // to uploadFilesContinue from Python.\n",
              "  outputElement.steps = steps;\n",
              "\n",
              "  return _uploadFilesContinue(outputId);\n",
              "}\n",
              "\n",
              "// This is roughly an async generator (not supported in the browser yet),\n",
              "// where there are multiple asynchronous steps and the Python side is going\n",
              "// to poll for completion of each step.\n",
              "// This uses a Promise to block the python side on completion of each step,\n",
              "// then passes the result of the previous step as the input to the next step.\n",
              "function _uploadFilesContinue(outputId) {\n",
              "  const outputElement = document.getElementById(outputId);\n",
              "  const steps = outputElement.steps;\n",
              "\n",
              "  const next = steps.next(outputElement.lastPromiseValue);\n",
              "  return Promise.resolve(next.value.promise).then((value) => {\n",
              "    // Cache the last promise value to make it available to the next\n",
              "    // step of the generator.\n",
              "    outputElement.lastPromiseValue = value;\n",
              "    return next.value.response;\n",
              "  });\n",
              "}\n",
              "\n",
              "/**\n",
              " * Generator function which is called between each async step of the upload\n",
              " * process.\n",
              " * @param {string} inputId Element ID of the input file picker element.\n",
              " * @param {string} outputId Element ID of the output display.\n",
              " * @return {!Iterable<!Object>} Iterable of next steps.\n",
              " */\n",
              "function* uploadFilesStep(inputId, outputId) {\n",
              "  const inputElement = document.getElementById(inputId);\n",
              "  inputElement.disabled = false;\n",
              "\n",
              "  const outputElement = document.getElementById(outputId);\n",
              "  outputElement.innerHTML = '';\n",
              "\n",
              "  const pickedPromise = new Promise((resolve) => {\n",
              "    inputElement.addEventListener('change', (e) => {\n",
              "      resolve(e.target.files);\n",
              "    });\n",
              "  });\n",
              "\n",
              "  const cancel = document.createElement('button');\n",
              "  inputElement.parentElement.appendChild(cancel);\n",
              "  cancel.textContent = 'Cancel upload';\n",
              "  const cancelPromise = new Promise((resolve) => {\n",
              "    cancel.onclick = () => {\n",
              "      resolve(null);\n",
              "    };\n",
              "  });\n",
              "\n",
              "  // Wait for the user to pick the files.\n",
              "  const files = yield {\n",
              "    promise: Promise.race([pickedPromise, cancelPromise]),\n",
              "    response: {\n",
              "      action: 'starting',\n",
              "    }\n",
              "  };\n",
              "\n",
              "  cancel.remove();\n",
              "\n",
              "  // Disable the input element since further picks are not allowed.\n",
              "  inputElement.disabled = true;\n",
              "\n",
              "  if (!files) {\n",
              "    return {\n",
              "      response: {\n",
              "        action: 'complete',\n",
              "      }\n",
              "    };\n",
              "  }\n",
              "\n",
              "  for (const file of files) {\n",
              "    const li = document.createElement('li');\n",
              "    li.append(span(file.name, {fontWeight: 'bold'}));\n",
              "    li.append(span(\n",
              "        `(${file.type || 'n/a'}) - ${file.size} bytes, ` +\n",
              "        `last modified: ${\n",
              "            file.lastModifiedDate ? file.lastModifiedDate.toLocaleDateString() :\n",
              "                                    'n/a'} - `));\n",
              "    const percent = span('0% done');\n",
              "    li.appendChild(percent);\n",
              "\n",
              "    outputElement.appendChild(li);\n",
              "\n",
              "    const fileDataPromise = new Promise((resolve) => {\n",
              "      const reader = new FileReader();\n",
              "      reader.onload = (e) => {\n",
              "        resolve(e.target.result);\n",
              "      };\n",
              "      reader.readAsArrayBuffer(file);\n",
              "    });\n",
              "    // Wait for the data to be ready.\n",
              "    let fileData = yield {\n",
              "      promise: fileDataPromise,\n",
              "      response: {\n",
              "        action: 'continue',\n",
              "      }\n",
              "    };\n",
              "\n",
              "    // Use a chunked sending to avoid message size limits. See b/62115660.\n",
              "    let position = 0;\n",
              "    do {\n",
              "      const length = Math.min(fileData.byteLength - position, MAX_PAYLOAD_SIZE);\n",
              "      const chunk = new Uint8Array(fileData, position, length);\n",
              "      position += length;\n",
              "\n",
              "      const base64 = btoa(String.fromCharCode.apply(null, chunk));\n",
              "      yield {\n",
              "        response: {\n",
              "          action: 'append',\n",
              "          file: file.name,\n",
              "          data: base64,\n",
              "        },\n",
              "      };\n",
              "\n",
              "      let percentDone = fileData.byteLength === 0 ?\n",
              "          100 :\n",
              "          Math.round((position / fileData.byteLength) * 100);\n",
              "      percent.textContent = `${percentDone}% done`;\n",
              "\n",
              "    } while (position < fileData.byteLength);\n",
              "  }\n",
              "\n",
              "  // All done.\n",
              "  yield {\n",
              "    response: {\n",
              "      action: 'complete',\n",
              "    }\n",
              "  };\n",
              "}\n",
              "\n",
              "scope.google = scope.google || {};\n",
              "scope.google.colab = scope.google.colab || {};\n",
              "scope.google.colab._files = {\n",
              "  _uploadFiles,\n",
              "  _uploadFilesContinue,\n",
              "};\n",
              "})(self);\n",
              "</script> "
            ]
          },
          "metadata": {}
        },
        {
          "output_type": "stream",
          "name": "stdout",
          "text": [
            "Saving sample_interview_data.csv to sample_interview_data.csv\n"
          ]
        }
      ]
    },
    {
      "cell_type": "markdown",
      "source": [
        "## Load data"
      ],
      "metadata": {
        "id": "wlZmIWJ0EBGg"
      }
    },
    {
      "cell_type": "code",
      "source": [
        "# Import text data\n",
        "# Use interview_data.csv here\n",
        "\n",
        "df = pd.read_csv('sample_interview_data.csv', index_col = 0)"
      ],
      "metadata": {
        "id": "Y_Wxtjvu5ah6"
      },
      "execution_count": 5,
      "outputs": []
    },
    {
      "cell_type": "code",
      "source": [
        "# Example text for GPT to label\n",
        "df['documents'].head()"
      ],
      "metadata": {
        "colab": {
          "base_uri": "https://localhost:8080/",
          "height": 272
        },
        "id": "QBrRhbUK5aki",
        "outputId": "c862b54b-ad13-4cd6-e073-3bf60d1b4e37"
      },
      "execution_count": 6,
      "outputs": [
        {
          "output_type": "execute_result",
          "data": {
            "text/plain": [
              "roles\n",
              "Educator    So speaking at a local district level, we have...\n",
              "Educator    I know that my field, the area of my expertise...\n",
              "Educator    In terms of local policies, something that can...\n",
              "Educator    I think you were talking before about this dat...\n",
              "Educator    As a educator who works with students directly...\n",
              "Name: documents, dtype: object"
            ],
            "text/html": [
              "<div>\n",
              "<style scoped>\n",
              "    .dataframe tbody tr th:only-of-type {\n",
              "        vertical-align: middle;\n",
              "    }\n",
              "\n",
              "    .dataframe tbody tr th {\n",
              "        vertical-align: top;\n",
              "    }\n",
              "\n",
              "    .dataframe thead th {\n",
              "        text-align: right;\n",
              "    }\n",
              "</style>\n",
              "<table border=\"1\" class=\"dataframe\">\n",
              "  <thead>\n",
              "    <tr style=\"text-align: right;\">\n",
              "      <th></th>\n",
              "      <th>documents</th>\n",
              "    </tr>\n",
              "    <tr>\n",
              "      <th>roles</th>\n",
              "      <th></th>\n",
              "    </tr>\n",
              "  </thead>\n",
              "  <tbody>\n",
              "    <tr>\n",
              "      <th>Educator</th>\n",
              "      <td>So speaking at a local district level, we have...</td>\n",
              "    </tr>\n",
              "    <tr>\n",
              "      <th>Educator</th>\n",
              "      <td>I know that my field, the area of my expertise...</td>\n",
              "    </tr>\n",
              "    <tr>\n",
              "      <th>Educator</th>\n",
              "      <td>In terms of local policies, something that can...</td>\n",
              "    </tr>\n",
              "    <tr>\n",
              "      <th>Educator</th>\n",
              "      <td>I think you were talking before about this dat...</td>\n",
              "    </tr>\n",
              "    <tr>\n",
              "      <th>Educator</th>\n",
              "      <td>As a educator who works with students directly...</td>\n",
              "    </tr>\n",
              "  </tbody>\n",
              "</table>\n",
              "</div><br><label><b>dtype:</b> object</label>"
            ]
          },
          "metadata": {},
          "execution_count": 6
        }
      ]
    },
    {
      "cell_type": "code",
      "source": [
        "# Function to preprocess text\n",
        "def preprocess_text(text):\n",
        "    text = text.lower()  # Convert to lowercase\n",
        "    text = re.sub(r'\\s+', ' ', text)  # Remove extra spaces\n",
        "    text = re.sub(r'https?://\\S+|www\\.\\S+', '', text)  # Remove URLs\n",
        "    #text = re.sub(r'[^a-zA-Z0-9\\s]', '', text)  # Remove special characters\n",
        "    text = text.strip()  # Trim spaces\n",
        "    return text\n",
        "\n",
        "# Apply preprocessing to the documents column\n",
        "df['documents'] = df['documents'].astype(str).apply(preprocess_text)"
      ],
      "metadata": {
        "id": "5gfMEGQXExs_"
      },
      "execution_count": 7,
      "outputs": []
    },
    {
      "cell_type": "markdown",
      "source": [
        "# LLM API Integration"
      ],
      "metadata": {
        "id": "SBZMjCyp8n1m"
      }
    },
    {
      "cell_type": "code",
      "source": [
        "import getpass"
      ],
      "metadata": {
        "id": "ClY8Acrel1ak"
      },
      "execution_count": 8,
      "outputs": []
    },
    {
      "cell_type": "code",
      "source": [
        "openai.api_key"
      ],
      "metadata": {
        "id": "cvSxc8x1xFBJ"
      },
      "execution_count": 15,
      "outputs": []
    },
    {
      "cell_type": "code",
      "source": [
        "# You can set up .env file to restore the api key\n",
        "openai.api_key = getpass.getpass(\"Enter your OpenAI API key: \")"
      ],
      "metadata": {
        "id": "EQcKHRcb81c6",
        "colab": {
          "base_uri": "https://localhost:8080/"
        },
        "outputId": "84bc5ea1-1619-4b8e-e7db-d07face19a19"
      },
      "execution_count": 15,
      "outputs": [
        {
          "name": "stdout",
          "output_type": "stream",
          "text": [
            "Enter your OpenAI API key: ··········\n"
          ]
        }
      ]
    },
    {
      "cell_type": "markdown",
      "source": [
        "## Open coding"
      ],
      "metadata": {
        "id": "lp1ZGPRyC-T9"
      }
    },
    {
      "cell_type": "markdown",
      "source": [
        "### Function to extract themes from the each row"
      ],
      "metadata": {
        "id": "IItXPCs_NpfQ"
      }
    },
    {
      "cell_type": "code",
      "source": [
        "from pydantic import BaseModel"
      ],
      "metadata": {
        "id": "r43eqBodsNXi"
      },
      "execution_count": 10,
      "outputs": []
    },
    {
      "cell_type": "code",
      "source": [
        "class QualCode(BaseModel):\n",
        "  name: str\n",
        "  description: str\n",
        "\n",
        "class ListOfCodes(BaseModel):\n",
        "  codes: list[QualCode]\n",
        ""
      ],
      "metadata": {
        "id": "0_pzh_Ggr2sI"
      },
      "execution_count": 11,
      "outputs": []
    },
    {
      "cell_type": "code",
      "source": [],
      "metadata": {
        "id": "raf5khfDxkbB"
      },
      "execution_count": null,
      "outputs": []
    },
    {
      "cell_type": "code",
      "source": [
        "class QualCode(BaseModel):\n",
        "  name: str\n",
        "  description: str\n",
        "\n",
        "class ListOfCodes(BaseModel):\n",
        "  codes: list[QualCode]\n",
        "\n",
        "def get_open_codes(text):\n",
        "    prompt = f\"\"\"\n",
        "    You are an expert qualitative researcher conducting open coding.\n",
        "    You are provided with text from a transcript of an interview with an education policy stakeholder.\n",
        "\n",
        "    Text: \"{text}\"\n",
        "\n",
        "    Provide your response in JSON format with two keys: \"codes\" (a list of short codes) and \"descriptions\" (a corresponding description for each code).\n",
        "\n",
        "    Example Response:\n",
        "    {{\n",
        "        \"codes\": [\"Student Engagement\", \"Technology Use\"],\n",
        "        \"descriptions\": [\"The text describes how students engage with the content\", \"The role of technology in enhancing learning\"]\n",
        "    }}\n",
        "    \"\"\"\n",
        "\n",
        "    client = OpenAI(api_key=openai.api_key)\n",
        "\n",
        "    try:\n",
        "        completion = client.beta.chat.completions.parse(\n",
        "            model=\"gpt-4o-2024-08-06\",\n",
        "            messages=[{\"role\": \"user\", \"content\": prompt}],\n",
        "            temperature=0.5,\n",
        "            response_format=ListOfCodes,\n",
        "        )\n",
        "\n",
        "        print(\"original response: \", f\"{completion}\")\n",
        "\n",
        "        # Parse LLM output\n",
        "\n",
        "        # Extract parsed structured data\n",
        "        parsed_response = completion.choices[0].message.parsed.codes\n",
        "\n",
        "\n",
        "        print(\"open coding result: \", parsed_response)\n",
        "\n",
        "        # If the model refuses to respond\n",
        "        if parsed_response.refusal:\n",
        "            print(parsed_response.refusal)\n",
        "            return None\n",
        "\n",
        "\n",
        "        # Extract names and descriptions separately\n",
        "        names = [code.name for code in parsed_response]\n",
        "        descriptions = [code.description for code in parsed_response]\n",
        "\n",
        "        return (parsed_response, names, descriptions)\n",
        "\n",
        "\n",
        "    except Exception as e:\n",
        "        print(f\"Error processing text: {text}\\nError: {str(e)}\")\n",
        "        return {\"codes\": [], \"descriptions\": []}\n"
      ],
      "metadata": {
        "id": "zsJwV1PmAyxM"
      },
      "execution_count": 47,
      "outputs": []
    },
    {
      "cell_type": "code",
      "source": [
        "# Select a subset of text to test prompt\n",
        "#random_rows = df.sample(n=50, random_state=2023)\n",
        "t = df.iloc[8:10, ]"
      ],
      "metadata": {
        "id": "7y0R4AGVHGzf"
      },
      "execution_count": 40,
      "outputs": []
    },
    {
      "cell_type": "code",
      "source": [
        "# Provide one row at a time\n",
        "# Apply open coding\n",
        "\n",
        "t[['Open_coding', 'Codes', 'Descriptions']] = t['documents'].apply(get_open_codes).apply(pd.Series)\n",
        "\n",
        "\n",
        "# Extract codes and descriptions into separate columns\n",
        "# t['Open_Coding'] = open_coding\n",
        "# t['Codes'] = codes\n",
        "# t['Descriptions'] = descriptions"
      ],
      "metadata": {
        "colab": {
          "base_uri": "https://localhost:8080/"
        },
        "id": "mnCQk2uIAy0O",
        "outputId": "e7a7d5c9-3473-4bbf-d602-26e136fee0d0"
      },
      "execution_count": 48,
      "outputs": [
        {
          "output_type": "stream",
          "name": "stdout",
          "text": [
            "original response:  ParsedChatCompletion[ListOfCodes](id='chatcmpl-BASe3ZTDsUZ58acbfXu66xy8uIcO0', choices=[ParsedChoice[ListOfCodes](finish_reason='stop', index=0, logprobs=None, message=ParsedChatCompletionMessage[ListOfCodes](content='{\"codes\":[{\"name\":\"Teacher Dependence\",\"description\":\"The quality of education is largely dependent on the individual teacher\\'s skills and background.\"},{\"name\":\"Diverse Teacher Backgrounds\",\"description\":\"Teachers come from varied backgrounds and possess different experiences, impacting their teaching styles.\"},{\"name\":\"Common Understanding\",\"description\":\"There is a need for a shared understanding of educational goals and practices across all levels, from administration to state policy.\"},{\"name\":\"Curriculum Flexibility\",\"description\":\"The speaker is not advocating for a standardized curriculum, suggesting a preference for flexibility in teaching approaches.\"}]}', refusal=None, role='assistant', audio=None, function_call=None, tool_calls=[], parsed=ListOfCodes(codes=[QualCode(name='Teacher Dependence', description=\"The quality of education is largely dependent on the individual teacher's skills and background.\"), QualCode(name='Diverse Teacher Backgrounds', description='Teachers come from varied backgrounds and possess different experiences, impacting their teaching styles.'), QualCode(name='Common Understanding', description='There is a need for a shared understanding of educational goals and practices across all levels, from administration to state policy.'), QualCode(name='Curriculum Flexibility', description='The speaker is not advocating for a standardized curriculum, suggesting a preference for flexibility in teaching approaches.')]), annotations=[]))], created=1741833091, model='gpt-4o-2024-08-06', object='chat.completion', service_tier='default', system_fingerprint='fp_f9f4fb6dbf', usage=CompletionUsage(completion_tokens=117, prompt_tokens=291, total_tokens=408, completion_tokens_details=CompletionTokensDetails(accepted_prediction_tokens=0, audio_tokens=0, reasoning_tokens=0, rejected_prediction_tokens=0), prompt_tokens_details=PromptTokensDetails(audio_tokens=0, cached_tokens=0)))\n",
            "open coding result:  [QualCode(name='Teacher Dependence', description=\"The quality of education is largely dependent on the individual teacher's skills and background.\"), QualCode(name='Diverse Teacher Backgrounds', description='Teachers come from varied backgrounds and possess different experiences, impacting their teaching styles.'), QualCode(name='Common Understanding', description='There is a need for a shared understanding of educational goals and practices across all levels, from administration to state policy.'), QualCode(name='Curriculum Flexibility', description='The speaker is not advocating for a standardized curriculum, suggesting a preference for flexibility in teaching approaches.')]\n",
            "original response:  ParsedChatCompletion[ListOfCodes](id='chatcmpl-BASe6KYAWoEXrjSD7FfLkEQI0yooa', choices=[ParsedChoice[ListOfCodes](finish_reason='stop', index=0, logprobs=None, message=ParsedChatCompletionMessage[ListOfCodes](content='{\"codes\":[{\"name\":\"Dual Language Support\",\"description\":\"The text highlights the importance of supporting dual language initiatives to enhance language development.\"},{\"name\":\"Student Autonomy\",\"description\":\"The emphasis on providing students with choices and opportunities in their future endeavors.\"},{\"name\":\"English Language Development\",\"description\":\"The necessity of developing English language skills alongside other language proficiencies.\"},{\"name\":\"Cultural and Linguistic Diversity\",\"description\":\"The recognition and honoring of students\\' native and heritage languages.\"},{\"name\":\"Skill Development\",\"description\":\"The importance of equipping students with the necessary skills for their future aspirations.\"}]}', refusal=None, role='assistant', audio=None, function_call=None, tool_calls=[], parsed=ListOfCodes(codes=[QualCode(name='Dual Language Support', description='The text highlights the importance of supporting dual language initiatives to enhance language development.'), QualCode(name='Student Autonomy', description='The emphasis on providing students with choices and opportunities in their future endeavors.'), QualCode(name='English Language Development', description='The necessity of developing English language skills alongside other language proficiencies.'), QualCode(name='Cultural and Linguistic Diversity', description=\"The recognition and honoring of students' native and heritage languages.\"), QualCode(name='Skill Development', description='The importance of equipping students with the necessary skills for their future aspirations.')]), annotations=[]))], created=1741833094, model='gpt-4o-2024-08-06', object='chat.completion', service_tier='default', system_fingerprint='fp_f9f4fb6dbf', usage=CompletionUsage(completion_tokens=122, prompt_tokens=373, total_tokens=495, completion_tokens_details=CompletionTokensDetails(accepted_prediction_tokens=0, audio_tokens=0, reasoning_tokens=0, rejected_prediction_tokens=0), prompt_tokens_details=PromptTokensDetails(audio_tokens=0, cached_tokens=0)))\n",
            "open coding result:  [QualCode(name='Dual Language Support', description='The text highlights the importance of supporting dual language initiatives to enhance language development.'), QualCode(name='Student Autonomy', description='The emphasis on providing students with choices and opportunities in their future endeavors.'), QualCode(name='English Language Development', description='The necessity of developing English language skills alongside other language proficiencies.'), QualCode(name='Cultural and Linguistic Diversity', description=\"The recognition and honoring of students' native and heritage languages.\"), QualCode(name='Skill Development', description='The importance of equipping students with the necessary skills for their future aspirations.')]\n"
          ]
        },
        {
          "output_type": "stream",
          "name": "stderr",
          "text": [
            "<ipython-input-48-bad2ac5cf545>:4: SettingWithCopyWarning: \n",
            "A value is trying to be set on a copy of a slice from a DataFrame.\n",
            "Try using .loc[row_indexer,col_indexer] = value instead\n",
            "\n",
            "See the caveats in the documentation: https://pandas.pydata.org/pandas-docs/stable/user_guide/indexing.html#returning-a-view-versus-a-copy\n",
            "  t[['Open_coding', 'Codes', 'Descriptions']] = t['documents'].apply(get_open_codes).apply(pd.Series)\n",
            "<ipython-input-48-bad2ac5cf545>:4: SettingWithCopyWarning: \n",
            "A value is trying to be set on a copy of a slice from a DataFrame.\n",
            "Try using .loc[row_indexer,col_indexer] = value instead\n",
            "\n",
            "See the caveats in the documentation: https://pandas.pydata.org/pandas-docs/stable/user_guide/indexing.html#returning-a-view-versus-a-copy\n",
            "  t[['Open_coding', 'Codes', 'Descriptions']] = t['documents'].apply(get_open_codes).apply(pd.Series)\n",
            "<ipython-input-48-bad2ac5cf545>:4: SettingWithCopyWarning: \n",
            "A value is trying to be set on a copy of a slice from a DataFrame.\n",
            "Try using .loc[row_indexer,col_indexer] = value instead\n",
            "\n",
            "See the caveats in the documentation: https://pandas.pydata.org/pandas-docs/stable/user_guide/indexing.html#returning-a-view-versus-a-copy\n",
            "  t[['Open_coding', 'Codes', 'Descriptions']] = t['documents'].apply(get_open_codes).apply(pd.Series)\n"
          ]
        }
      ]
    },
    {
      "cell_type": "code",
      "source": [
        "test_material = \"{\\n    \\\"codes\\\": [\\\"Dual Language Initiatives\\\", \\\"Language Skills Development\\\"],\\n    \\\"descriptions\\\": [\\\"The stakeholder supports Superintendent Reykdal's dual language initiatives\\\", \\\"Emphasis on ensuring students have the necessary language skills for their future goals\\\"]\\n}\".strip()\n"
      ],
      "metadata": {
        "id": "SX3TZVoLm4LP"
      },
      "execution_count": 33,
      "outputs": []
    },
    {
      "cell_type": "code",
      "source": [
        "json.loads(test_material)"
      ],
      "metadata": {
        "colab": {
          "base_uri": "https://localhost:8080/"
        },
        "id": "wHU92opfnOAc",
        "outputId": "cb5a6079-33f5-42c2-da05-f4797e8aa72d"
      },
      "execution_count": 48,
      "outputs": [
        {
          "output_type": "execute_result",
          "data": {
            "text/plain": [
              "{'codes': ['Dual Language Initiatives', 'Language Skills Development'],\n",
              " 'descriptions': [\"The stakeholder supports Superintendent Reykdal's dual language initiatives\",\n",
              "  'Emphasis on ensuring students have the necessary language skills for their future goals']}"
            ]
          },
          "metadata": {},
          "execution_count": 48
        }
      ]
    },
    {
      "cell_type": "code",
      "source": [
        "t"
      ],
      "metadata": {
        "colab": {
          "base_uri": "https://localhost:8080/",
          "height": 143
        },
        "id": "qtYIcDkfnvy-",
        "outputId": "75bf491f-a4b4-4ad4-cd8d-d4f4ae0b6ac4"
      },
      "execution_count": 49,
      "outputs": [
        {
          "output_type": "execute_result",
          "data": {
            "text/plain": [
              "          #doc                                          documents  \\\n",
              "roles                                                               \n",
              "Educator  18.0  in terms of what is the quality that we are ha...   \n",
              "Educator  19.0  i know i had some conversations last year with...   \n",
              "\n",
              "                                                Open_coding  \\\n",
              "roles                                                         \n",
              "Educator  [name='Teacher Dependence' description=\"The qu...   \n",
              "Educator  [name='Dual Language Support' description='The...   \n",
              "\n",
              "                                                      Codes  \\\n",
              "roles                                                         \n",
              "Educator  [Teacher Dependence, Diverse Teacher Backgroun...   \n",
              "Educator  [Dual Language Support, Student Autonomy, Engl...   \n",
              "\n",
              "                                               Descriptions  \n",
              "roles                                                        \n",
              "Educator  [The quality of education is largely dependent...  \n",
              "Educator  [The text highlights the importance of support...  "
            ],
            "text/html": [
              "\n",
              "  <div id=\"df-a5964fa1-6f1b-4eeb-937b-5e001920c312\" class=\"colab-df-container\">\n",
              "    <div>\n",
              "<style scoped>\n",
              "    .dataframe tbody tr th:only-of-type {\n",
              "        vertical-align: middle;\n",
              "    }\n",
              "\n",
              "    .dataframe tbody tr th {\n",
              "        vertical-align: top;\n",
              "    }\n",
              "\n",
              "    .dataframe thead th {\n",
              "        text-align: right;\n",
              "    }\n",
              "</style>\n",
              "<table border=\"1\" class=\"dataframe\">\n",
              "  <thead>\n",
              "    <tr style=\"text-align: right;\">\n",
              "      <th></th>\n",
              "      <th>#doc</th>\n",
              "      <th>documents</th>\n",
              "      <th>Open_coding</th>\n",
              "      <th>Codes</th>\n",
              "      <th>Descriptions</th>\n",
              "    </tr>\n",
              "    <tr>\n",
              "      <th>roles</th>\n",
              "      <th></th>\n",
              "      <th></th>\n",
              "      <th></th>\n",
              "      <th></th>\n",
              "      <th></th>\n",
              "    </tr>\n",
              "  </thead>\n",
              "  <tbody>\n",
              "    <tr>\n",
              "      <th>Educator</th>\n",
              "      <td>18.0</td>\n",
              "      <td>in terms of what is the quality that we are ha...</td>\n",
              "      <td>[name='Teacher Dependence' description=\"The qu...</td>\n",
              "      <td>[Teacher Dependence, Diverse Teacher Backgroun...</td>\n",
              "      <td>[The quality of education is largely dependent...</td>\n",
              "    </tr>\n",
              "    <tr>\n",
              "      <th>Educator</th>\n",
              "      <td>19.0</td>\n",
              "      <td>i know i had some conversations last year with...</td>\n",
              "      <td>[name='Dual Language Support' description='The...</td>\n",
              "      <td>[Dual Language Support, Student Autonomy, Engl...</td>\n",
              "      <td>[The text highlights the importance of support...</td>\n",
              "    </tr>\n",
              "  </tbody>\n",
              "</table>\n",
              "</div>\n",
              "    <div class=\"colab-df-buttons\">\n",
              "\n",
              "  <div class=\"colab-df-container\">\n",
              "    <button class=\"colab-df-convert\" onclick=\"convertToInteractive('df-a5964fa1-6f1b-4eeb-937b-5e001920c312')\"\n",
              "            title=\"Convert this dataframe to an interactive table.\"\n",
              "            style=\"display:none;\">\n",
              "\n",
              "  <svg xmlns=\"http://www.w3.org/2000/svg\" height=\"24px\" viewBox=\"0 -960 960 960\">\n",
              "    <path d=\"M120-120v-720h720v720H120Zm60-500h600v-160H180v160Zm220 220h160v-160H400v160Zm0 220h160v-160H400v160ZM180-400h160v-160H180v160Zm440 0h160v-160H620v160ZM180-180h160v-160H180v160Zm440 0h160v-160H620v160Z\"/>\n",
              "  </svg>\n",
              "    </button>\n",
              "\n",
              "  <style>\n",
              "    .colab-df-container {\n",
              "      display:flex;\n",
              "      gap: 12px;\n",
              "    }\n",
              "\n",
              "    .colab-df-convert {\n",
              "      background-color: #E8F0FE;\n",
              "      border: none;\n",
              "      border-radius: 50%;\n",
              "      cursor: pointer;\n",
              "      display: none;\n",
              "      fill: #1967D2;\n",
              "      height: 32px;\n",
              "      padding: 0 0 0 0;\n",
              "      width: 32px;\n",
              "    }\n",
              "\n",
              "    .colab-df-convert:hover {\n",
              "      background-color: #E2EBFA;\n",
              "      box-shadow: 0px 1px 2px rgba(60, 64, 67, 0.3), 0px 1px 3px 1px rgba(60, 64, 67, 0.15);\n",
              "      fill: #174EA6;\n",
              "    }\n",
              "\n",
              "    .colab-df-buttons div {\n",
              "      margin-bottom: 4px;\n",
              "    }\n",
              "\n",
              "    [theme=dark] .colab-df-convert {\n",
              "      background-color: #3B4455;\n",
              "      fill: #D2E3FC;\n",
              "    }\n",
              "\n",
              "    [theme=dark] .colab-df-convert:hover {\n",
              "      background-color: #434B5C;\n",
              "      box-shadow: 0px 1px 3px 1px rgba(0, 0, 0, 0.15);\n",
              "      filter: drop-shadow(0px 1px 2px rgba(0, 0, 0, 0.3));\n",
              "      fill: #FFFFFF;\n",
              "    }\n",
              "  </style>\n",
              "\n",
              "    <script>\n",
              "      const buttonEl =\n",
              "        document.querySelector('#df-a5964fa1-6f1b-4eeb-937b-5e001920c312 button.colab-df-convert');\n",
              "      buttonEl.style.display =\n",
              "        google.colab.kernel.accessAllowed ? 'block' : 'none';\n",
              "\n",
              "      async function convertToInteractive(key) {\n",
              "        const element = document.querySelector('#df-a5964fa1-6f1b-4eeb-937b-5e001920c312');\n",
              "        const dataTable =\n",
              "          await google.colab.kernel.invokeFunction('convertToInteractive',\n",
              "                                                    [key], {});\n",
              "        if (!dataTable) return;\n",
              "\n",
              "        const docLinkHtml = 'Like what you see? Visit the ' +\n",
              "          '<a target=\"_blank\" href=https://colab.research.google.com/notebooks/data_table.ipynb>data table notebook</a>'\n",
              "          + ' to learn more about interactive tables.';\n",
              "        element.innerHTML = '';\n",
              "        dataTable['output_type'] = 'display_data';\n",
              "        await google.colab.output.renderOutput(dataTable, element);\n",
              "        const docLink = document.createElement('div');\n",
              "        docLink.innerHTML = docLinkHtml;\n",
              "        element.appendChild(docLink);\n",
              "      }\n",
              "    </script>\n",
              "  </div>\n",
              "\n",
              "\n",
              "<div id=\"df-a51d85e0-111a-48d0-934b-0d955835dd64\">\n",
              "  <button class=\"colab-df-quickchart\" onclick=\"quickchart('df-a51d85e0-111a-48d0-934b-0d955835dd64')\"\n",
              "            title=\"Suggest charts\"\n",
              "            style=\"display:none;\">\n",
              "\n",
              "<svg xmlns=\"http://www.w3.org/2000/svg\" height=\"24px\"viewBox=\"0 0 24 24\"\n",
              "     width=\"24px\">\n",
              "    <g>\n",
              "        <path d=\"M19 3H5c-1.1 0-2 .9-2 2v14c0 1.1.9 2 2 2h14c1.1 0 2-.9 2-2V5c0-1.1-.9-2-2-2zM9 17H7v-7h2v7zm4 0h-2V7h2v10zm4 0h-2v-4h2v4z\"/>\n",
              "    </g>\n",
              "</svg>\n",
              "  </button>\n",
              "\n",
              "<style>\n",
              "  .colab-df-quickchart {\n",
              "      --bg-color: #E8F0FE;\n",
              "      --fill-color: #1967D2;\n",
              "      --hover-bg-color: #E2EBFA;\n",
              "      --hover-fill-color: #174EA6;\n",
              "      --disabled-fill-color: #AAA;\n",
              "      --disabled-bg-color: #DDD;\n",
              "  }\n",
              "\n",
              "  [theme=dark] .colab-df-quickchart {\n",
              "      --bg-color: #3B4455;\n",
              "      --fill-color: #D2E3FC;\n",
              "      --hover-bg-color: #434B5C;\n",
              "      --hover-fill-color: #FFFFFF;\n",
              "      --disabled-bg-color: #3B4455;\n",
              "      --disabled-fill-color: #666;\n",
              "  }\n",
              "\n",
              "  .colab-df-quickchart {\n",
              "    background-color: var(--bg-color);\n",
              "    border: none;\n",
              "    border-radius: 50%;\n",
              "    cursor: pointer;\n",
              "    display: none;\n",
              "    fill: var(--fill-color);\n",
              "    height: 32px;\n",
              "    padding: 0;\n",
              "    width: 32px;\n",
              "  }\n",
              "\n",
              "  .colab-df-quickchart:hover {\n",
              "    background-color: var(--hover-bg-color);\n",
              "    box-shadow: 0 1px 2px rgba(60, 64, 67, 0.3), 0 1px 3px 1px rgba(60, 64, 67, 0.15);\n",
              "    fill: var(--button-hover-fill-color);\n",
              "  }\n",
              "\n",
              "  .colab-df-quickchart-complete:disabled,\n",
              "  .colab-df-quickchart-complete:disabled:hover {\n",
              "    background-color: var(--disabled-bg-color);\n",
              "    fill: var(--disabled-fill-color);\n",
              "    box-shadow: none;\n",
              "  }\n",
              "\n",
              "  .colab-df-spinner {\n",
              "    border: 2px solid var(--fill-color);\n",
              "    border-color: transparent;\n",
              "    border-bottom-color: var(--fill-color);\n",
              "    animation:\n",
              "      spin 1s steps(1) infinite;\n",
              "  }\n",
              "\n",
              "  @keyframes spin {\n",
              "    0% {\n",
              "      border-color: transparent;\n",
              "      border-bottom-color: var(--fill-color);\n",
              "      border-left-color: var(--fill-color);\n",
              "    }\n",
              "    20% {\n",
              "      border-color: transparent;\n",
              "      border-left-color: var(--fill-color);\n",
              "      border-top-color: var(--fill-color);\n",
              "    }\n",
              "    30% {\n",
              "      border-color: transparent;\n",
              "      border-left-color: var(--fill-color);\n",
              "      border-top-color: var(--fill-color);\n",
              "      border-right-color: var(--fill-color);\n",
              "    }\n",
              "    40% {\n",
              "      border-color: transparent;\n",
              "      border-right-color: var(--fill-color);\n",
              "      border-top-color: var(--fill-color);\n",
              "    }\n",
              "    60% {\n",
              "      border-color: transparent;\n",
              "      border-right-color: var(--fill-color);\n",
              "    }\n",
              "    80% {\n",
              "      border-color: transparent;\n",
              "      border-right-color: var(--fill-color);\n",
              "      border-bottom-color: var(--fill-color);\n",
              "    }\n",
              "    90% {\n",
              "      border-color: transparent;\n",
              "      border-bottom-color: var(--fill-color);\n",
              "    }\n",
              "  }\n",
              "</style>\n",
              "\n",
              "  <script>\n",
              "    async function quickchart(key) {\n",
              "      const quickchartButtonEl =\n",
              "        document.querySelector('#' + key + ' button');\n",
              "      quickchartButtonEl.disabled = true;  // To prevent multiple clicks.\n",
              "      quickchartButtonEl.classList.add('colab-df-spinner');\n",
              "      try {\n",
              "        const charts = await google.colab.kernel.invokeFunction(\n",
              "            'suggestCharts', [key], {});\n",
              "      } catch (error) {\n",
              "        console.error('Error during call to suggestCharts:', error);\n",
              "      }\n",
              "      quickchartButtonEl.classList.remove('colab-df-spinner');\n",
              "      quickchartButtonEl.classList.add('colab-df-quickchart-complete');\n",
              "    }\n",
              "    (() => {\n",
              "      let quickchartButtonEl =\n",
              "        document.querySelector('#df-a51d85e0-111a-48d0-934b-0d955835dd64 button');\n",
              "      quickchartButtonEl.style.display =\n",
              "        google.colab.kernel.accessAllowed ? 'block' : 'none';\n",
              "    })();\n",
              "  </script>\n",
              "</div>\n",
              "\n",
              "  <div id=\"id_22dc16c2-950e-4051-998f-56a502400048\">\n",
              "    <style>\n",
              "      .colab-df-generate {\n",
              "        background-color: #E8F0FE;\n",
              "        border: none;\n",
              "        border-radius: 50%;\n",
              "        cursor: pointer;\n",
              "        display: none;\n",
              "        fill: #1967D2;\n",
              "        height: 32px;\n",
              "        padding: 0 0 0 0;\n",
              "        width: 32px;\n",
              "      }\n",
              "\n",
              "      .colab-df-generate:hover {\n",
              "        background-color: #E2EBFA;\n",
              "        box-shadow: 0px 1px 2px rgba(60, 64, 67, 0.3), 0px 1px 3px 1px rgba(60, 64, 67, 0.15);\n",
              "        fill: #174EA6;\n",
              "      }\n",
              "\n",
              "      [theme=dark] .colab-df-generate {\n",
              "        background-color: #3B4455;\n",
              "        fill: #D2E3FC;\n",
              "      }\n",
              "\n",
              "      [theme=dark] .colab-df-generate:hover {\n",
              "        background-color: #434B5C;\n",
              "        box-shadow: 0px 1px 3px 1px rgba(0, 0, 0, 0.15);\n",
              "        filter: drop-shadow(0px 1px 2px rgba(0, 0, 0, 0.3));\n",
              "        fill: #FFFFFF;\n",
              "      }\n",
              "    </style>\n",
              "    <button class=\"colab-df-generate\" onclick=\"generateWithVariable('t')\"\n",
              "            title=\"Generate code using this dataframe.\"\n",
              "            style=\"display:none;\">\n",
              "\n",
              "  <svg xmlns=\"http://www.w3.org/2000/svg\" height=\"24px\"viewBox=\"0 0 24 24\"\n",
              "       width=\"24px\">\n",
              "    <path d=\"M7,19H8.4L18.45,9,17,7.55,7,17.6ZM5,21V16.75L18.45,3.32a2,2,0,0,1,2.83,0l1.4,1.43a1.91,1.91,0,0,1,.58,1.4,1.91,1.91,0,0,1-.58,1.4L9.25,21ZM18.45,9,17,7.55Zm-12,3A5.31,5.31,0,0,0,4.9,8.1,5.31,5.31,0,0,0,1,6.5,5.31,5.31,0,0,0,4.9,4.9,5.31,5.31,0,0,0,6.5,1,5.31,5.31,0,0,0,8.1,4.9,5.31,5.31,0,0,0,12,6.5,5.46,5.46,0,0,0,6.5,12Z\"/>\n",
              "  </svg>\n",
              "    </button>\n",
              "    <script>\n",
              "      (() => {\n",
              "      const buttonEl =\n",
              "        document.querySelector('#id_22dc16c2-950e-4051-998f-56a502400048 button.colab-df-generate');\n",
              "      buttonEl.style.display =\n",
              "        google.colab.kernel.accessAllowed ? 'block' : 'none';\n",
              "\n",
              "      buttonEl.onclick = () => {\n",
              "        google.colab.notebook.generateWithVariable('t');\n",
              "      }\n",
              "      })();\n",
              "    </script>\n",
              "  </div>\n",
              "\n",
              "    </div>\n",
              "  </div>\n"
            ],
            "application/vnd.google.colaboratory.intrinsic+json": {
              "type": "dataframe",
              "variable_name": "t",
              "summary": "{\n  \"name\": \"t\",\n  \"rows\": 2,\n  \"fields\": [\n    {\n      \"column\": \"roles\",\n      \"properties\": {\n        \"dtype\": \"string\",\n        \"num_unique_values\": 1,\n        \"samples\": [\n          \"Educator\"\n        ],\n        \"semantic_type\": \"\",\n        \"description\": \"\"\n      }\n    },\n    {\n      \"column\": \"#doc\",\n      \"properties\": {\n        \"dtype\": \"number\",\n        \"std\": 0.7071067811865476,\n        \"min\": 18.0,\n        \"max\": 19.0,\n        \"num_unique_values\": 2,\n        \"samples\": [\n          19.0\n        ],\n        \"semantic_type\": \"\",\n        \"description\": \"\"\n      }\n    },\n    {\n      \"column\": \"documents\",\n      \"properties\": {\n        \"dtype\": \"string\",\n        \"num_unique_values\": 2,\n        \"samples\": [\n          \"i know i had some conversations last year with superintendent reykdal, i am a big proponent of his dual language initiatives that he is proposing. along with that is we have to ensure students have whatever language skills they need to be able to do whatever they want to with their lives. that is the ultimate goal. that they get choices to do what they want to with their future, and in our country now, that is also english language development, and so this lack of understanding around how do we make really meaningful language development in honor students, native languages, and heritage languages? yes, absolutely, and that also has to go in tandem with making sure we are giving kids the skills that they need to be able to have access to what they want to be doing in life.\"\n        ],\n        \"semantic_type\": \"\",\n        \"description\": \"\"\n      }\n    },\n    {\n      \"column\": \"Open_coding\",\n      \"properties\": {\n        \"dtype\": \"object\",\n        \"semantic_type\": \"\",\n        \"description\": \"\"\n      }\n    },\n    {\n      \"column\": \"Codes\",\n      \"properties\": {\n        \"dtype\": \"object\",\n        \"semantic_type\": \"\",\n        \"description\": \"\"\n      }\n    },\n    {\n      \"column\": \"Descriptions\",\n      \"properties\": {\n        \"dtype\": \"object\",\n        \"semantic_type\": \"\",\n        \"description\": \"\"\n      }\n    }\n  ]\n}"
            }
          },
          "metadata": {},
          "execution_count": 49
        }
      ]
    },
    {
      "cell_type": "code",
      "source": [
        "# Refine and label emerging themes\n",
        "# Pattern Recognition\n",
        "# Validation Techniques\n",
        "t.head()"
      ],
      "metadata": {
        "colab": {
          "base_uri": "https://localhost:8080/",
          "height": 143
        },
        "id": "URa_Z7HnJYbb",
        "outputId": "958ede22-aaed-4d14-ce42-057916d17253"
      },
      "execution_count": 52,
      "outputs": [
        {
          "output_type": "execute_result",
          "data": {
            "text/plain": [
              "          #doc                                          documents  \\\n",
              "roles                                                               \n",
              "Educator  18.0  in terms of what is the quality that we are ha...   \n",
              "Educator  19.0  i know i had some conversations last year with...   \n",
              "\n",
              "                                                Open_Coding  \\\n",
              "roles                                                         \n",
              "Educator  {'codes': [{'name': 'Quality Variability', 'de...   \n",
              "Educator  {'codes': [{'name': 'Dual Language Initiatives...   \n",
              "\n",
              "                                                      Codes Descriptions  \n",
              "roles                                                                     \n",
              "Educator  [{'name': 'Quality Variability', 'description'...           []  \n",
              "Educator  [{'name': 'Dual Language Initiatives', 'descri...           []  "
            ],
            "text/html": [
              "\n",
              "  <div id=\"df-64a03b36-0c3a-4a97-883c-ce05fd30c2e4\" class=\"colab-df-container\">\n",
              "    <div>\n",
              "<style scoped>\n",
              "    .dataframe tbody tr th:only-of-type {\n",
              "        vertical-align: middle;\n",
              "    }\n",
              "\n",
              "    .dataframe tbody tr th {\n",
              "        vertical-align: top;\n",
              "    }\n",
              "\n",
              "    .dataframe thead th {\n",
              "        text-align: right;\n",
              "    }\n",
              "</style>\n",
              "<table border=\"1\" class=\"dataframe\">\n",
              "  <thead>\n",
              "    <tr style=\"text-align: right;\">\n",
              "      <th></th>\n",
              "      <th>#doc</th>\n",
              "      <th>documents</th>\n",
              "      <th>Open_Coding</th>\n",
              "      <th>Codes</th>\n",
              "      <th>Descriptions</th>\n",
              "    </tr>\n",
              "    <tr>\n",
              "      <th>roles</th>\n",
              "      <th></th>\n",
              "      <th></th>\n",
              "      <th></th>\n",
              "      <th></th>\n",
              "      <th></th>\n",
              "    </tr>\n",
              "  </thead>\n",
              "  <tbody>\n",
              "    <tr>\n",
              "      <th>Educator</th>\n",
              "      <td>18.0</td>\n",
              "      <td>in terms of what is the quality that we are ha...</td>\n",
              "      <td>{'codes': [{'name': 'Quality Variability', 'de...</td>\n",
              "      <td>[{'name': 'Quality Variability', 'description'...</td>\n",
              "      <td>[]</td>\n",
              "    </tr>\n",
              "    <tr>\n",
              "      <th>Educator</th>\n",
              "      <td>19.0</td>\n",
              "      <td>i know i had some conversations last year with...</td>\n",
              "      <td>{'codes': [{'name': 'Dual Language Initiatives...</td>\n",
              "      <td>[{'name': 'Dual Language Initiatives', 'descri...</td>\n",
              "      <td>[]</td>\n",
              "    </tr>\n",
              "  </tbody>\n",
              "</table>\n",
              "</div>\n",
              "    <div class=\"colab-df-buttons\">\n",
              "\n",
              "  <div class=\"colab-df-container\">\n",
              "    <button class=\"colab-df-convert\" onclick=\"convertToInteractive('df-64a03b36-0c3a-4a97-883c-ce05fd30c2e4')\"\n",
              "            title=\"Convert this dataframe to an interactive table.\"\n",
              "            style=\"display:none;\">\n",
              "\n",
              "  <svg xmlns=\"http://www.w3.org/2000/svg\" height=\"24px\" viewBox=\"0 -960 960 960\">\n",
              "    <path d=\"M120-120v-720h720v720H120Zm60-500h600v-160H180v160Zm220 220h160v-160H400v160Zm0 220h160v-160H400v160ZM180-400h160v-160H180v160Zm440 0h160v-160H620v160ZM180-180h160v-160H180v160Zm440 0h160v-160H620v160Z\"/>\n",
              "  </svg>\n",
              "    </button>\n",
              "\n",
              "  <style>\n",
              "    .colab-df-container {\n",
              "      display:flex;\n",
              "      gap: 12px;\n",
              "    }\n",
              "\n",
              "    .colab-df-convert {\n",
              "      background-color: #E8F0FE;\n",
              "      border: none;\n",
              "      border-radius: 50%;\n",
              "      cursor: pointer;\n",
              "      display: none;\n",
              "      fill: #1967D2;\n",
              "      height: 32px;\n",
              "      padding: 0 0 0 0;\n",
              "      width: 32px;\n",
              "    }\n",
              "\n",
              "    .colab-df-convert:hover {\n",
              "      background-color: #E2EBFA;\n",
              "      box-shadow: 0px 1px 2px rgba(60, 64, 67, 0.3), 0px 1px 3px 1px rgba(60, 64, 67, 0.15);\n",
              "      fill: #174EA6;\n",
              "    }\n",
              "\n",
              "    .colab-df-buttons div {\n",
              "      margin-bottom: 4px;\n",
              "    }\n",
              "\n",
              "    [theme=dark] .colab-df-convert {\n",
              "      background-color: #3B4455;\n",
              "      fill: #D2E3FC;\n",
              "    }\n",
              "\n",
              "    [theme=dark] .colab-df-convert:hover {\n",
              "      background-color: #434B5C;\n",
              "      box-shadow: 0px 1px 3px 1px rgba(0, 0, 0, 0.15);\n",
              "      filter: drop-shadow(0px 1px 2px rgba(0, 0, 0, 0.3));\n",
              "      fill: #FFFFFF;\n",
              "    }\n",
              "  </style>\n",
              "\n",
              "    <script>\n",
              "      const buttonEl =\n",
              "        document.querySelector('#df-64a03b36-0c3a-4a97-883c-ce05fd30c2e4 button.colab-df-convert');\n",
              "      buttonEl.style.display =\n",
              "        google.colab.kernel.accessAllowed ? 'block' : 'none';\n",
              "\n",
              "      async function convertToInteractive(key) {\n",
              "        const element = document.querySelector('#df-64a03b36-0c3a-4a97-883c-ce05fd30c2e4');\n",
              "        const dataTable =\n",
              "          await google.colab.kernel.invokeFunction('convertToInteractive',\n",
              "                                                    [key], {});\n",
              "        if (!dataTable) return;\n",
              "\n",
              "        const docLinkHtml = 'Like what you see? Visit the ' +\n",
              "          '<a target=\"_blank\" href=https://colab.research.google.com/notebooks/data_table.ipynb>data table notebook</a>'\n",
              "          + ' to learn more about interactive tables.';\n",
              "        element.innerHTML = '';\n",
              "        dataTable['output_type'] = 'display_data';\n",
              "        await google.colab.output.renderOutput(dataTable, element);\n",
              "        const docLink = document.createElement('div');\n",
              "        docLink.innerHTML = docLinkHtml;\n",
              "        element.appendChild(docLink);\n",
              "      }\n",
              "    </script>\n",
              "  </div>\n",
              "\n",
              "\n",
              "<div id=\"df-af2d59fd-4ca5-4727-8c26-b94127847c8c\">\n",
              "  <button class=\"colab-df-quickchart\" onclick=\"quickchart('df-af2d59fd-4ca5-4727-8c26-b94127847c8c')\"\n",
              "            title=\"Suggest charts\"\n",
              "            style=\"display:none;\">\n",
              "\n",
              "<svg xmlns=\"http://www.w3.org/2000/svg\" height=\"24px\"viewBox=\"0 0 24 24\"\n",
              "     width=\"24px\">\n",
              "    <g>\n",
              "        <path d=\"M19 3H5c-1.1 0-2 .9-2 2v14c0 1.1.9 2 2 2h14c1.1 0 2-.9 2-2V5c0-1.1-.9-2-2-2zM9 17H7v-7h2v7zm4 0h-2V7h2v10zm4 0h-2v-4h2v4z\"/>\n",
              "    </g>\n",
              "</svg>\n",
              "  </button>\n",
              "\n",
              "<style>\n",
              "  .colab-df-quickchart {\n",
              "      --bg-color: #E8F0FE;\n",
              "      --fill-color: #1967D2;\n",
              "      --hover-bg-color: #E2EBFA;\n",
              "      --hover-fill-color: #174EA6;\n",
              "      --disabled-fill-color: #AAA;\n",
              "      --disabled-bg-color: #DDD;\n",
              "  }\n",
              "\n",
              "  [theme=dark] .colab-df-quickchart {\n",
              "      --bg-color: #3B4455;\n",
              "      --fill-color: #D2E3FC;\n",
              "      --hover-bg-color: #434B5C;\n",
              "      --hover-fill-color: #FFFFFF;\n",
              "      --disabled-bg-color: #3B4455;\n",
              "      --disabled-fill-color: #666;\n",
              "  }\n",
              "\n",
              "  .colab-df-quickchart {\n",
              "    background-color: var(--bg-color);\n",
              "    border: none;\n",
              "    border-radius: 50%;\n",
              "    cursor: pointer;\n",
              "    display: none;\n",
              "    fill: var(--fill-color);\n",
              "    height: 32px;\n",
              "    padding: 0;\n",
              "    width: 32px;\n",
              "  }\n",
              "\n",
              "  .colab-df-quickchart:hover {\n",
              "    background-color: var(--hover-bg-color);\n",
              "    box-shadow: 0 1px 2px rgba(60, 64, 67, 0.3), 0 1px 3px 1px rgba(60, 64, 67, 0.15);\n",
              "    fill: var(--button-hover-fill-color);\n",
              "  }\n",
              "\n",
              "  .colab-df-quickchart-complete:disabled,\n",
              "  .colab-df-quickchart-complete:disabled:hover {\n",
              "    background-color: var(--disabled-bg-color);\n",
              "    fill: var(--disabled-fill-color);\n",
              "    box-shadow: none;\n",
              "  }\n",
              "\n",
              "  .colab-df-spinner {\n",
              "    border: 2px solid var(--fill-color);\n",
              "    border-color: transparent;\n",
              "    border-bottom-color: var(--fill-color);\n",
              "    animation:\n",
              "      spin 1s steps(1) infinite;\n",
              "  }\n",
              "\n",
              "  @keyframes spin {\n",
              "    0% {\n",
              "      border-color: transparent;\n",
              "      border-bottom-color: var(--fill-color);\n",
              "      border-left-color: var(--fill-color);\n",
              "    }\n",
              "    20% {\n",
              "      border-color: transparent;\n",
              "      border-left-color: var(--fill-color);\n",
              "      border-top-color: var(--fill-color);\n",
              "    }\n",
              "    30% {\n",
              "      border-color: transparent;\n",
              "      border-left-color: var(--fill-color);\n",
              "      border-top-color: var(--fill-color);\n",
              "      border-right-color: var(--fill-color);\n",
              "    }\n",
              "    40% {\n",
              "      border-color: transparent;\n",
              "      border-right-color: var(--fill-color);\n",
              "      border-top-color: var(--fill-color);\n",
              "    }\n",
              "    60% {\n",
              "      border-color: transparent;\n",
              "      border-right-color: var(--fill-color);\n",
              "    }\n",
              "    80% {\n",
              "      border-color: transparent;\n",
              "      border-right-color: var(--fill-color);\n",
              "      border-bottom-color: var(--fill-color);\n",
              "    }\n",
              "    90% {\n",
              "      border-color: transparent;\n",
              "      border-bottom-color: var(--fill-color);\n",
              "    }\n",
              "  }\n",
              "</style>\n",
              "\n",
              "  <script>\n",
              "    async function quickchart(key) {\n",
              "      const quickchartButtonEl =\n",
              "        document.querySelector('#' + key + ' button');\n",
              "      quickchartButtonEl.disabled = true;  // To prevent multiple clicks.\n",
              "      quickchartButtonEl.classList.add('colab-df-spinner');\n",
              "      try {\n",
              "        const charts = await google.colab.kernel.invokeFunction(\n",
              "            'suggestCharts', [key], {});\n",
              "      } catch (error) {\n",
              "        console.error('Error during call to suggestCharts:', error);\n",
              "      }\n",
              "      quickchartButtonEl.classList.remove('colab-df-spinner');\n",
              "      quickchartButtonEl.classList.add('colab-df-quickchart-complete');\n",
              "    }\n",
              "    (() => {\n",
              "      let quickchartButtonEl =\n",
              "        document.querySelector('#df-af2d59fd-4ca5-4727-8c26-b94127847c8c button');\n",
              "      quickchartButtonEl.style.display =\n",
              "        google.colab.kernel.accessAllowed ? 'block' : 'none';\n",
              "    })();\n",
              "  </script>\n",
              "</div>\n",
              "\n",
              "    </div>\n",
              "  </div>\n"
            ],
            "application/vnd.google.colaboratory.intrinsic+json": {
              "type": "dataframe",
              "variable_name": "t",
              "summary": "{\n  \"name\": \"t\",\n  \"rows\": 2,\n  \"fields\": [\n    {\n      \"column\": \"roles\",\n      \"properties\": {\n        \"dtype\": \"string\",\n        \"num_unique_values\": 1,\n        \"samples\": [\n          \"Educator\"\n        ],\n        \"semantic_type\": \"\",\n        \"description\": \"\"\n      }\n    },\n    {\n      \"column\": \"#doc\",\n      \"properties\": {\n        \"dtype\": \"number\",\n        \"std\": 0.7071067811865476,\n        \"min\": 18.0,\n        \"max\": 19.0,\n        \"num_unique_values\": 2,\n        \"samples\": [\n          19.0\n        ],\n        \"semantic_type\": \"\",\n        \"description\": \"\"\n      }\n    },\n    {\n      \"column\": \"documents\",\n      \"properties\": {\n        \"dtype\": \"string\",\n        \"num_unique_values\": 2,\n        \"samples\": [\n          \"i know i had some conversations last year with superintendent reykdal, i am a big proponent of his dual language initiatives that he is proposing. along with that is we have to ensure students have whatever language skills they need to be able to do whatever they want to with their lives. that is the ultimate goal. that they get choices to do what they want to with their future, and in our country now, that is also english language development, and so this lack of understanding around how do we make really meaningful language development in honor students, native languages, and heritage languages? yes, absolutely, and that also has to go in tandem with making sure we are giving kids the skills that they need to be able to have access to what they want to be doing in life.\"\n        ],\n        \"semantic_type\": \"\",\n        \"description\": \"\"\n      }\n    },\n    {\n      \"column\": \"Open_Coding\",\n      \"properties\": {\n        \"dtype\": \"object\",\n        \"semantic_type\": \"\",\n        \"description\": \"\"\n      }\n    },\n    {\n      \"column\": \"Codes\",\n      \"properties\": {\n        \"dtype\": \"object\",\n        \"semantic_type\": \"\",\n        \"description\": \"\"\n      }\n    },\n    {\n      \"column\": \"Descriptions\",\n      \"properties\": {\n        \"dtype\": \"object\",\n        \"semantic_type\": \"\",\n        \"description\": \"\"\n      }\n    }\n  ]\n}"
            }
          },
          "metadata": {},
          "execution_count": 52
        }
      ]
    },
    {
      "cell_type": "code",
      "source": [
        "# Flatten and aggregate into a codebook\n",
        "pre_codebook1 = []\n",
        "for _, row in t.iterrows():\n",
        "    for code, desc in zip(row['Codes'], row['Descriptions']):\n",
        "        pre_codebook1.append({\"Code\": code, \"Description\": desc})\n"
      ],
      "metadata": {
        "id": "SYrxjeJNAy25"
      },
      "execution_count": 19,
      "outputs": []
    },
    {
      "cell_type": "code",
      "source": [
        "pre_codebook1"
      ],
      "metadata": {
        "colab": {
          "base_uri": "https://localhost:8080/"
        },
        "id": "bnGjqMA0Ay5e",
        "outputId": "63cb25fe-ff40-4d95-b7d3-038baf5c2a0b"
      },
      "execution_count": 20,
      "outputs": [
        {
          "output_type": "execute_result",
          "data": {
            "text/plain": [
              "[{'Code': 'Teacher Quality',\n",
              "  'Description': 'The text emphasizes the importance of teacher quality in the region'},\n",
              " {'Code': 'Curriculum Flexibility',\n",
              "  'Description': 'The stakeholder supports a flexible curriculum approach that allows for diverse teacher backgrounds'},\n",
              " {'Code': 'Common Understanding',\n",
              "  'Description': 'The stakeholder highlights the need for a common understanding among educators and administrators'},\n",
              " {'Code': 'Dual Language Initiatives',\n",
              "  'Description': \"The stakeholder is in support of Superintendent Reykdal's dual language initiatives\"},\n",
              " {'Code': 'Language Development',\n",
              "  'Description': \"The importance of meaningful language development in students' native and heritage languages\"}]"
            ]
          },
          "metadata": {},
          "execution_count": 20
        }
      ]
    },
    {
      "cell_type": "markdown",
      "source": [
        "#### Function to extract collective themes from the entire dataset"
      ],
      "metadata": {
        "id": "e--SfjEANm08"
      }
    },
    {
      "cell_type": "code",
      "source": [
        "def extract_themes(text_list):\n",
        "    combined_text = \" \".join(text_list)  # Merge all texts into a single document\n",
        "\n",
        "    prompt = f\"\"\"\n",
        "    You are an expert qualitative researcher performing open coding.\n",
        "    You are provided with interview transcripts with education policy stakeholders.\n",
        "\n",
        "    Text: \"{combined_text}\"\n",
        "\n",
        "    Provide your response in JSON format:\n",
        "    {{\n",
        "        \"Codes\": [\"Theme 1\", \"Theme 2\", \"Theme 3\"],\n",
        "        \"Descriptions\": [\"Brief description of Theme 1\", \"Description of Theme 2\", \"Description of Theme 3\"]\n",
        "    }}\n",
        "    \"\"\"\n",
        "\n",
        "    try:\n",
        "        response = openai.ChatCompletion.create(\n",
        "            model=\"gpt-3.5-turbo\",\n",
        "            messages=[{\"role\": \"user\", \"content\": prompt}],\n",
        "            temperature=0.5\n",
        "        )\n",
        "\n",
        "        # Parse the JSON output\n",
        "        content = response['choices'][0]['message']['content'].strip()\n",
        "        return json.loads(content)\n",
        "\n",
        "    except Exception as e:\n",
        "        print(f\"Error: {str(e)}\")\n",
        "        return {\"Codes\": [], \"Descriptions\": []}  # Return empty structure on failure\n",
        "\n"
      ],
      "metadata": {
        "id": "xO0MUAuPEi0w"
      },
      "execution_count": null,
      "outputs": []
    },
    {
      "cell_type": "code",
      "source": [
        "# Load text data\n",
        "documents_list = t['documents'].tolist()\n",
        "\n",
        "# Step 1: Extract collective themes\n",
        "pre_codebook = extract_themes(documents_list)\n",
        "themes, descriptions = pre_codebook[\"Codes\"], pre_codebook[\"Descriptions\"]"
      ],
      "metadata": {
        "id": "NYLE3XfDKs9k"
      },
      "execution_count": null,
      "outputs": []
    },
    {
      "cell_type": "code",
      "source": [
        "pre_codebook"
      ],
      "metadata": {
        "colab": {
          "base_uri": "https://localhost:8080/"
        },
        "id": "YXdQuKFZMZr8",
        "outputId": "b1735542-fc18-457f-9c74-49a74e58f9bc"
      },
      "execution_count": null,
      "outputs": [
        {
          "output_type": "execute_result",
          "data": {
            "text/plain": [
              "{'Codes': ['Teacher Quality',\n",
              "  'Dual Language Initiatives',\n",
              "  'Language Development'],\n",
              " 'Descriptions': ['Discussion on the importance of teacher quality in education',\n",
              "  \"Support for Superintendent Reykdal's dual language initiatives\",\n",
              "  'Focus on meaningful language development for students in their native and heritage languages']}"
            ]
          },
          "metadata": {},
          "execution_count": 56
        }
      ]
    },
    {
      "cell_type": "code",
      "source": [
        "# Function to assign themes to each text entry\n",
        "def assign_themes(text_list, themes, descriptions):\n",
        "    prompt = f\"\"\"\n",
        "    Given the following overarching themes:\n",
        "    {json.dumps({\"themes\": themes, \"descriptions\": descriptions}, indent=2)}\n",
        "\n",
        "    Now classify each text into one or more of these themes.\n",
        "\n",
        "    Texts: {json.dumps(text_list, indent=2)}\n",
        "\n",
        "    Provide a response in JSON format as a list where each element contains:\n",
        "    {{\n",
        "        \"assigned_themes\": [\"Theme 1\", \"Theme 2\"]\n",
        "    }}\n",
        "    \"\"\"\n",
        "\n",
        "    try:\n",
        "        response = openai.ChatCompletion.create(\n",
        "            model=\"gpt-3.5-turbo\",\n",
        "            messages=[{\"role\": \"user\", \"content\": prompt}],\n",
        "            temperature=0.5\n",
        "        )\n",
        "\n",
        "        # Parse the JSON output\n",
        "        content = response['choices'][0]['message']['content'].strip()\n",
        "        return json.loads(content)\n",
        "\n",
        "    except Exception as e:\n",
        "        print(f\"Error: {str(e)}\")\n",
        "        return [{\"assigned_themes\": []} for _ in text_list]  # Return empty structure on failure\n",
        "\n",
        "# Step 2: Assign themes to individual texts\n",
        "assigned_theme_results = assign_themes(documents_list, themes, descriptions)\n",
        "\n",
        "# Convert results to DataFrame\n",
        "t['Assigned_Themes'] = [result[\"assigned_themes\"] for result in assigned_theme_results]\n"
      ],
      "metadata": {
        "colab": {
          "base_uri": "https://localhost:8080/"
        },
        "id": "yRTouRDiMkjr",
        "outputId": "da745552-13e2-4f38-f004-7748feb11876"
      },
      "execution_count": null,
      "outputs": [
        {
          "output_type": "stream",
          "name": "stderr",
          "text": [
            "<ipython-input-57-f89eda91d7de>:36: SettingWithCopyWarning: \n",
            "A value is trying to be set on a copy of a slice from a DataFrame.\n",
            "Try using .loc[row_indexer,col_indexer] = value instead\n",
            "\n",
            "See the caveats in the documentation: https://pandas.pydata.org/pandas-docs/stable/user_guide/indexing.html#returning-a-view-versus-a-copy\n",
            "  t['Assigned_Themes'] = [result[\"assigned_themes\"] for result in assigned_theme_results]\n"
          ]
        }
      ]
    },
    {
      "cell_type": "code",
      "source": [
        "t['Assigned_Themes']"
      ],
      "metadata": {
        "colab": {
          "base_uri": "https://localhost:8080/",
          "height": 178
        },
        "id": "LzsLt28TMn3V",
        "outputId": "2726a3e9-c570-4612-ddb1-7992040b11b5"
      },
      "execution_count": null,
      "outputs": [
        {
          "output_type": "execute_result",
          "data": {
            "text/plain": [
              "roles\n",
              "Educator              [Teacher Quality, Language Development]\n",
              "Educator    [Dual Language Initiatives, Language Development]\n",
              "Name: Assigned_Themes, dtype: object"
            ],
            "text/html": [
              "<div>\n",
              "<style scoped>\n",
              "    .dataframe tbody tr th:only-of-type {\n",
              "        vertical-align: middle;\n",
              "    }\n",
              "\n",
              "    .dataframe tbody tr th {\n",
              "        vertical-align: top;\n",
              "    }\n",
              "\n",
              "    .dataframe thead th {\n",
              "        text-align: right;\n",
              "    }\n",
              "</style>\n",
              "<table border=\"1\" class=\"dataframe\">\n",
              "  <thead>\n",
              "    <tr style=\"text-align: right;\">\n",
              "      <th></th>\n",
              "      <th>Assigned_Themes</th>\n",
              "    </tr>\n",
              "    <tr>\n",
              "      <th>roles</th>\n",
              "      <th></th>\n",
              "    </tr>\n",
              "  </thead>\n",
              "  <tbody>\n",
              "    <tr>\n",
              "      <th>Educator</th>\n",
              "      <td>[Teacher Quality, Language Development]</td>\n",
              "    </tr>\n",
              "    <tr>\n",
              "      <th>Educator</th>\n",
              "      <td>[Dual Language Initiatives, Language Development]</td>\n",
              "    </tr>\n",
              "  </tbody>\n",
              "</table>\n",
              "</div><br><label><b>dtype:</b> object</label>"
            ]
          },
          "metadata": {},
          "execution_count": 58
        }
      ]
    },
    {
      "cell_type": "markdown",
      "source": [
        "## Codebook-based coding"
      ],
      "metadata": {
        "id": "IzuG7gUJEjNC"
      }
    },
    {
      "cell_type": "markdown",
      "source": [
        "### Load codebook"
      ],
      "metadata": {
        "id": "aZkCIjzeEDex"
      }
    },
    {
      "cell_type": "code",
      "source": [
        "# Import codebook if applicable\n",
        "# If you are open coding using LLM, skip this\n",
        "# Use codebook.csv here\n",
        "codebook = pd.read_csv('/content/drive/My Drive/Colab Notebooks/Ballmer/data/codebook.csv')"
      ],
      "metadata": {
        "id": "xWsNEKdV2ipD"
      },
      "execution_count": null,
      "outputs": []
    },
    {
      "cell_type": "code",
      "source": [
        "# The codebook contains parent and child codes from which GPT selects.\n",
        "codebook.head()"
      ],
      "metadata": {
        "colab": {
          "base_uri": "https://localhost:8080/",
          "height": 310
        },
        "id": "bh9F7i18pJ_T",
        "outputId": "2806eca5-348e-4435-fbdb-a2f82a15cbb0"
      },
      "execution_count": null,
      "outputs": [
        {
          "output_type": "execute_result",
          "data": {
            "text/plain": [
              "   Topic                              Parent  \\\n",
              "0   23.0    Culture, climate and environment   \n",
              "1   14.0    Culture, climate and environment   \n",
              "2    NaN          Curriculum and instruction   \n",
              "3   13.0          Curriculum and instruction   \n",
              "4   11.0  Data, evidence, and accountability   \n",
              "\n",
              "                                               Child  \\\n",
              "0                                    Trauma at home    \n",
              "1                                        Anti-racism   \n",
              "2                             Instructional programs   \n",
              "3  Curriculum development and instructional delivery   \n",
              "4  Data access, analysis, reporting, use, quality...   \n",
              "\n",
              "                                   Child_description  Agreed rating  \\\n",
              "0  Struggling home and family experiences of chil...            4.0   \n",
              "1  Talking about whiteness, success, and anti-racism            3.0   \n",
              "2  AP/IB courses, college classes/credits in high...            NaN   \n",
              "3  School curriculum development and instructiona...            3.0   \n",
              "4  Data collection, access, analysis, and use to ...            4.0   \n",
              "\n",
              "   Min's Original Coherence rating  \\\n",
              "0                              4.0   \n",
              "1                              3.0   \n",
              "2                              NaN   \n",
              "3                              3.0   \n",
              "4                              4.0   \n",
              "\n",
              "                                           Key words  \n",
              "0  bad, kid, children, home, school, famili, grad...  \n",
              "1  pull, white, child, success, stay, built, job,...  \n",
              "2  Equity, Students, School, District, Policy, Da...  \n",
              "3  onlin, teach, taught, teacher, high, learn, cl...  \n",
              "4  dashboard, data, inform, assumess, collect, di...  "
            ],
            "text/html": [
              "\n",
              "  <div id=\"df-e479217b-70a0-4856-990e-c1d781059d54\" class=\"colab-df-container\">\n",
              "    <div>\n",
              "<style scoped>\n",
              "    .dataframe tbody tr th:only-of-type {\n",
              "        vertical-align: middle;\n",
              "    }\n",
              "\n",
              "    .dataframe tbody tr th {\n",
              "        vertical-align: top;\n",
              "    }\n",
              "\n",
              "    .dataframe thead th {\n",
              "        text-align: right;\n",
              "    }\n",
              "</style>\n",
              "<table border=\"1\" class=\"dataframe\">\n",
              "  <thead>\n",
              "    <tr style=\"text-align: right;\">\n",
              "      <th></th>\n",
              "      <th>Topic</th>\n",
              "      <th>Parent</th>\n",
              "      <th>Child</th>\n",
              "      <th>Child_description</th>\n",
              "      <th>Agreed rating</th>\n",
              "      <th>Min's Original Coherence rating</th>\n",
              "      <th>Key words</th>\n",
              "    </tr>\n",
              "  </thead>\n",
              "  <tbody>\n",
              "    <tr>\n",
              "      <th>0</th>\n",
              "      <td>23.0</td>\n",
              "      <td>Culture, climate and environment</td>\n",
              "      <td>Trauma at home</td>\n",
              "      <td>Struggling home and family experiences of chil...</td>\n",
              "      <td>4.0</td>\n",
              "      <td>4.0</td>\n",
              "      <td>bad, kid, children, home, school, famili, grad...</td>\n",
              "    </tr>\n",
              "    <tr>\n",
              "      <th>1</th>\n",
              "      <td>14.0</td>\n",
              "      <td>Culture, climate and environment</td>\n",
              "      <td>Anti-racism</td>\n",
              "      <td>Talking about whiteness, success, and anti-racism</td>\n",
              "      <td>3.0</td>\n",
              "      <td>3.0</td>\n",
              "      <td>pull, white, child, success, stay, built, job,...</td>\n",
              "    </tr>\n",
              "    <tr>\n",
              "      <th>2</th>\n",
              "      <td>NaN</td>\n",
              "      <td>Curriculum and instruction</td>\n",
              "      <td>Instructional programs</td>\n",
              "      <td>AP/IB courses, college classes/credits in high...</td>\n",
              "      <td>NaN</td>\n",
              "      <td>NaN</td>\n",
              "      <td>Equity, Students, School, District, Policy, Da...</td>\n",
              "    </tr>\n",
              "    <tr>\n",
              "      <th>3</th>\n",
              "      <td>13.0</td>\n",
              "      <td>Curriculum and instruction</td>\n",
              "      <td>Curriculum development and instructional delivery</td>\n",
              "      <td>School curriculum development and instructiona...</td>\n",
              "      <td>3.0</td>\n",
              "      <td>3.0</td>\n",
              "      <td>onlin, teach, taught, teacher, high, learn, cl...</td>\n",
              "    </tr>\n",
              "    <tr>\n",
              "      <th>4</th>\n",
              "      <td>11.0</td>\n",
              "      <td>Data, evidence, and accountability</td>\n",
              "      <td>Data access, analysis, reporting, use, quality...</td>\n",
              "      <td>Data collection, access, analysis, and use to ...</td>\n",
              "      <td>4.0</td>\n",
              "      <td>4.0</td>\n",
              "      <td>dashboard, data, inform, assumess, collect, di...</td>\n",
              "    </tr>\n",
              "  </tbody>\n",
              "</table>\n",
              "</div>\n",
              "    <div class=\"colab-df-buttons\">\n",
              "\n",
              "  <div class=\"colab-df-container\">\n",
              "    <button class=\"colab-df-convert\" onclick=\"convertToInteractive('df-e479217b-70a0-4856-990e-c1d781059d54')\"\n",
              "            title=\"Convert this dataframe to an interactive table.\"\n",
              "            style=\"display:none;\">\n",
              "\n",
              "  <svg xmlns=\"http://www.w3.org/2000/svg\" height=\"24px\" viewBox=\"0 -960 960 960\">\n",
              "    <path d=\"M120-120v-720h720v720H120Zm60-500h600v-160H180v160Zm220 220h160v-160H400v160Zm0 220h160v-160H400v160ZM180-400h160v-160H180v160Zm440 0h160v-160H620v160ZM180-180h160v-160H180v160Zm440 0h160v-160H620v160Z\"/>\n",
              "  </svg>\n",
              "    </button>\n",
              "\n",
              "  <style>\n",
              "    .colab-df-container {\n",
              "      display:flex;\n",
              "      gap: 12px;\n",
              "    }\n",
              "\n",
              "    .colab-df-convert {\n",
              "      background-color: #E8F0FE;\n",
              "      border: none;\n",
              "      border-radius: 50%;\n",
              "      cursor: pointer;\n",
              "      display: none;\n",
              "      fill: #1967D2;\n",
              "      height: 32px;\n",
              "      padding: 0 0 0 0;\n",
              "      width: 32px;\n",
              "    }\n",
              "\n",
              "    .colab-df-convert:hover {\n",
              "      background-color: #E2EBFA;\n",
              "      box-shadow: 0px 1px 2px rgba(60, 64, 67, 0.3), 0px 1px 3px 1px rgba(60, 64, 67, 0.15);\n",
              "      fill: #174EA6;\n",
              "    }\n",
              "\n",
              "    .colab-df-buttons div {\n",
              "      margin-bottom: 4px;\n",
              "    }\n",
              "\n",
              "    [theme=dark] .colab-df-convert {\n",
              "      background-color: #3B4455;\n",
              "      fill: #D2E3FC;\n",
              "    }\n",
              "\n",
              "    [theme=dark] .colab-df-convert:hover {\n",
              "      background-color: #434B5C;\n",
              "      box-shadow: 0px 1px 3px 1px rgba(0, 0, 0, 0.15);\n",
              "      filter: drop-shadow(0px 1px 2px rgba(0, 0, 0, 0.3));\n",
              "      fill: #FFFFFF;\n",
              "    }\n",
              "  </style>\n",
              "\n",
              "    <script>\n",
              "      const buttonEl =\n",
              "        document.querySelector('#df-e479217b-70a0-4856-990e-c1d781059d54 button.colab-df-convert');\n",
              "      buttonEl.style.display =\n",
              "        google.colab.kernel.accessAllowed ? 'block' : 'none';\n",
              "\n",
              "      async function convertToInteractive(key) {\n",
              "        const element = document.querySelector('#df-e479217b-70a0-4856-990e-c1d781059d54');\n",
              "        const dataTable =\n",
              "          await google.colab.kernel.invokeFunction('convertToInteractive',\n",
              "                                                    [key], {});\n",
              "        if (!dataTable) return;\n",
              "\n",
              "        const docLinkHtml = 'Like what you see? Visit the ' +\n",
              "          '<a target=\"_blank\" href=https://colab.research.google.com/notebooks/data_table.ipynb>data table notebook</a>'\n",
              "          + ' to learn more about interactive tables.';\n",
              "        element.innerHTML = '';\n",
              "        dataTable['output_type'] = 'display_data';\n",
              "        await google.colab.output.renderOutput(dataTable, element);\n",
              "        const docLink = document.createElement('div');\n",
              "        docLink.innerHTML = docLinkHtml;\n",
              "        element.appendChild(docLink);\n",
              "      }\n",
              "    </script>\n",
              "  </div>\n",
              "\n",
              "\n",
              "<div id=\"df-ff861630-9f62-45a3-bf8e-4b72ddf345af\">\n",
              "  <button class=\"colab-df-quickchart\" onclick=\"quickchart('df-ff861630-9f62-45a3-bf8e-4b72ddf345af')\"\n",
              "            title=\"Suggest charts\"\n",
              "            style=\"display:none;\">\n",
              "\n",
              "<svg xmlns=\"http://www.w3.org/2000/svg\" height=\"24px\"viewBox=\"0 0 24 24\"\n",
              "     width=\"24px\">\n",
              "    <g>\n",
              "        <path d=\"M19 3H5c-1.1 0-2 .9-2 2v14c0 1.1.9 2 2 2h14c1.1 0 2-.9 2-2V5c0-1.1-.9-2-2-2zM9 17H7v-7h2v7zm4 0h-2V7h2v10zm4 0h-2v-4h2v4z\"/>\n",
              "    </g>\n",
              "</svg>\n",
              "  </button>\n",
              "\n",
              "<style>\n",
              "  .colab-df-quickchart {\n",
              "      --bg-color: #E8F0FE;\n",
              "      --fill-color: #1967D2;\n",
              "      --hover-bg-color: #E2EBFA;\n",
              "      --hover-fill-color: #174EA6;\n",
              "      --disabled-fill-color: #AAA;\n",
              "      --disabled-bg-color: #DDD;\n",
              "  }\n",
              "\n",
              "  [theme=dark] .colab-df-quickchart {\n",
              "      --bg-color: #3B4455;\n",
              "      --fill-color: #D2E3FC;\n",
              "      --hover-bg-color: #434B5C;\n",
              "      --hover-fill-color: #FFFFFF;\n",
              "      --disabled-bg-color: #3B4455;\n",
              "      --disabled-fill-color: #666;\n",
              "  }\n",
              "\n",
              "  .colab-df-quickchart {\n",
              "    background-color: var(--bg-color);\n",
              "    border: none;\n",
              "    border-radius: 50%;\n",
              "    cursor: pointer;\n",
              "    display: none;\n",
              "    fill: var(--fill-color);\n",
              "    height: 32px;\n",
              "    padding: 0;\n",
              "    width: 32px;\n",
              "  }\n",
              "\n",
              "  .colab-df-quickchart:hover {\n",
              "    background-color: var(--hover-bg-color);\n",
              "    box-shadow: 0 1px 2px rgba(60, 64, 67, 0.3), 0 1px 3px 1px rgba(60, 64, 67, 0.15);\n",
              "    fill: var(--button-hover-fill-color);\n",
              "  }\n",
              "\n",
              "  .colab-df-quickchart-complete:disabled,\n",
              "  .colab-df-quickchart-complete:disabled:hover {\n",
              "    background-color: var(--disabled-bg-color);\n",
              "    fill: var(--disabled-fill-color);\n",
              "    box-shadow: none;\n",
              "  }\n",
              "\n",
              "  .colab-df-spinner {\n",
              "    border: 2px solid var(--fill-color);\n",
              "    border-color: transparent;\n",
              "    border-bottom-color: var(--fill-color);\n",
              "    animation:\n",
              "      spin 1s steps(1) infinite;\n",
              "  }\n",
              "\n",
              "  @keyframes spin {\n",
              "    0% {\n",
              "      border-color: transparent;\n",
              "      border-bottom-color: var(--fill-color);\n",
              "      border-left-color: var(--fill-color);\n",
              "    }\n",
              "    20% {\n",
              "      border-color: transparent;\n",
              "      border-left-color: var(--fill-color);\n",
              "      border-top-color: var(--fill-color);\n",
              "    }\n",
              "    30% {\n",
              "      border-color: transparent;\n",
              "      border-left-color: var(--fill-color);\n",
              "      border-top-color: var(--fill-color);\n",
              "      border-right-color: var(--fill-color);\n",
              "    }\n",
              "    40% {\n",
              "      border-color: transparent;\n",
              "      border-right-color: var(--fill-color);\n",
              "      border-top-color: var(--fill-color);\n",
              "    }\n",
              "    60% {\n",
              "      border-color: transparent;\n",
              "      border-right-color: var(--fill-color);\n",
              "    }\n",
              "    80% {\n",
              "      border-color: transparent;\n",
              "      border-right-color: var(--fill-color);\n",
              "      border-bottom-color: var(--fill-color);\n",
              "    }\n",
              "    90% {\n",
              "      border-color: transparent;\n",
              "      border-bottom-color: var(--fill-color);\n",
              "    }\n",
              "  }\n",
              "</style>\n",
              "\n",
              "  <script>\n",
              "    async function quickchart(key) {\n",
              "      const quickchartButtonEl =\n",
              "        document.querySelector('#' + key + ' button');\n",
              "      quickchartButtonEl.disabled = true;  // To prevent multiple clicks.\n",
              "      quickchartButtonEl.classList.add('colab-df-spinner');\n",
              "      try {\n",
              "        const charts = await google.colab.kernel.invokeFunction(\n",
              "            'suggestCharts', [key], {});\n",
              "      } catch (error) {\n",
              "        console.error('Error during call to suggestCharts:', error);\n",
              "      }\n",
              "      quickchartButtonEl.classList.remove('colab-df-spinner');\n",
              "      quickchartButtonEl.classList.add('colab-df-quickchart-complete');\n",
              "    }\n",
              "    (() => {\n",
              "      let quickchartButtonEl =\n",
              "        document.querySelector('#df-ff861630-9f62-45a3-bf8e-4b72ddf345af button');\n",
              "      quickchartButtonEl.style.display =\n",
              "        google.colab.kernel.accessAllowed ? 'block' : 'none';\n",
              "    })();\n",
              "  </script>\n",
              "</div>\n",
              "\n",
              "    </div>\n",
              "  </div>\n"
            ],
            "application/vnd.google.colaboratory.intrinsic+json": {
              "type": "dataframe",
              "variable_name": "codebook",
              "summary": "{\n  \"name\": \"codebook\",\n  \"rows\": 28,\n  \"fields\": [\n    {\n      \"column\": \"Topic\",\n      \"properties\": {\n        \"dtype\": \"number\",\n        \"std\": 8.472111110382505,\n        \"min\": 2.0,\n        \"max\": 30.0,\n        \"num_unique_values\": 25,\n        \"samples\": [\n          28.0,\n          10.0,\n          23.0\n        ],\n        \"semantic_type\": \"\",\n        \"description\": \"\"\n      }\n    },\n    {\n      \"column\": \"Parent\",\n      \"properties\": {\n        \"dtype\": \"category\",\n        \"num_unique_values\": 9,\n        \"samples\": [\n          \"Student supports and interventions\",\n          \"Curriculum and instruction\",\n          \"Staffing resources: Any mention related to how state and districts decide or influence the ways staff, train, retain, and support any teacher, paraeducator, school or district leader.\"\n        ],\n        \"semantic_type\": \"\",\n        \"description\": \"\"\n      }\n    },\n    {\n      \"column\": \"Child\",\n      \"properties\": {\n        \"dtype\": \"string\",\n        \"num_unique_values\": 28,\n        \"samples\": [\n          \"Local control and district policies and politics\",\n          \"Learning opportunities and programs\",\n          \"Data capacity\"\n        ],\n        \"semantic_type\": \"\",\n        \"description\": \"\"\n      }\n    },\n    {\n      \"column\": \"Child_description\",\n      \"properties\": {\n        \"dtype\": \"string\",\n        \"num_unique_values\": 28,\n        \"samples\": [\n          \"District decision making, accountability and compliance, under local control, and district engagement with community and parents\",\n          \"Learning opportunities in schools, and tribal and native education\",\n          \"Related to capacity of individuals, groups or organizations to process data and information and conduct research of any kind for any purpose\"\n        ],\n        \"semantic_type\": \"\",\n        \"description\": \"\"\n      }\n    },\n    {\n      \"column\": \"Agreed rating\",\n      \"properties\": {\n        \"dtype\": \"number\",\n        \"std\": 0.4453463071962463,\n        \"min\": 3.0,\n        \"max\": 4.0,\n        \"num_unique_values\": 3,\n        \"samples\": [\n          4.0,\n          3.0,\n          3.5\n        ],\n        \"semantic_type\": \"\",\n        \"description\": \"\"\n      }\n    },\n    {\n      \"column\": \"Min's Original Coherence rating\",\n      \"properties\": {\n        \"dtype\": \"number\",\n        \"std\": 0.47871355387816916,\n        \"min\": 3.0,\n        \"max\": 4.0,\n        \"num_unique_values\": 3,\n        \"samples\": [\n          4.0,\n          3.0,\n          3.5\n        ],\n        \"semantic_type\": \"\",\n        \"description\": \"\"\n      }\n    },\n    {\n      \"column\": \"Key words\",\n      \"properties\": {\n        \"dtype\": \"string\",\n        \"num_unique_values\": 28,\n        \"samples\": [\n          \"budget, school-board, decis, sometim, make, stakehold, member, director, engag, power, superintend, process, polit, chang, allow, piec, toward, along, act, district \",\n          \"leav, opportun, year, differ, five, nativ, tribe, type, offic, back, time, last, far, legisl, whole, curriculum, open, everybodi, longer, earlier \",\n          \"data, resources, state, access, learning, research, organizations, agencies, capacity, digital, analysis, trends, support, universities, questions, information, community, school, finance, equity.\"\n        ],\n        \"semantic_type\": \"\",\n        \"description\": \"\"\n      }\n    }\n  ]\n}"
            }
          },
          "metadata": {},
          "execution_count": 10
        }
      ]
    },
    {
      "cell_type": "markdown",
      "source": [
        "### *load functions*"
      ],
      "metadata": {
        "id": "ur2PrkrY9Xh9"
      }
    },
    {
      "cell_type": "code",
      "source": [
        "def label_topic(doc_in):\n",
        "    \"\"\"\n",
        "    Labels the topic of a given document using OpenAI's GPT model.\n",
        "\n",
        "    Args:\n",
        "    doc_in (str): The document or text snippet for which the topic needs to be determined.\n",
        "\n",
        "    Returns:\n",
        "    current_response: The labeled topic as determined by the GPT model or an error message.\n",
        "    \"\"\"\n",
        "\n",
        "    # Create a prompt using the document input.\n",
        "    prompt = create_prompt(doc_in)\n",
        "\n",
        "    # Send the generated prompt to the OpenAI API and get a response.\n",
        "    response = send_to_api(prompt)\n",
        "\n",
        "    # Check if the response from the API is not an error.\n",
        "    if response != \"InvalidRequestError\":\n",
        "        current_response = response.choices[0].message.content\n",
        "    else:\n",
        "        current_response = response\n",
        "\n",
        "    return current_response"
      ],
      "metadata": {
        "id": "oRBwxa-B9UFI"
      },
      "execution_count": null,
      "outputs": []
    },
    {
      "cell_type": "code",
      "source": [
        "def send_to_api(prompt):\n",
        "    \"\"\"\n",
        "    This function sends a given prompt to OpenAI's API and retrieves the response.\n",
        "\n",
        "    Args:\n",
        "    prompt (str): A string containing the user's input that needs to be processed by the GPT model.\n",
        "\n",
        "    Returns:\n",
        "    result: The response from OpenAI's API or an error message if the request fails.\n",
        "    \"\"\"\n",
        "\n",
        "    # Initialize result to None, this will store the API response\n",
        "    result = None\n",
        "\n",
        "    # A loop to attempt the API call multiple times if necessary\n",
        "    i = 1\n",
        "    while result is None:\n",
        "        try:\n",
        "            # Making a request to OpenAI's ChatCompletion API\n",
        "            result = openai.ChatCompletion.create(\n",
        "                model=\"gpt-3.5-turbo\",  # Specifies the GPT model to use\n",
        "                messages=[\n",
        "                    {\"role\": \"user\", \"content\": prompt}  # The prompt or message for the GPT model\n",
        "                ],\n",
        "                temperature=0.5  # Sets the creativity of the response. Lower is more deterministic.\n",
        "            )\n",
        "\n",
        "        except openai.InvalidRequestError:\n",
        "            # If there is an invalid request, store an error message\n",
        "            result = \"InvalidRequestError\"\n",
        "        except:\n",
        "            # For other errors, wait for 1.5 seconds before retrying\n",
        "            time.sleep(1.5)\n",
        "            pass\n",
        "\n",
        "    # Return the API response or error message\n",
        "    return result"
      ],
      "metadata": {
        "id": "rIEMFKpl7igu"
      },
      "execution_count": null,
      "outputs": []
    },
    {
      "cell_type": "markdown",
      "source": [
        "send_to_api: This function is a robust way to interact with the OpenAI API, handling potential errors and retrying requests. The `temperature` parameter can be adjusted to alter the nature of the generated responses, with lower values leading to more predictable and conservative outputs."
      ],
      "metadata": {
        "id": "Ikf9j3CorYmr"
      }
    },
    {
      "cell_type": "markdown",
      "source": [
        "### Prompt 1 (Zero shot):input the entire codebook, including a table that has parent code, parent code description, child code, and child code description; use the GPT to label both child and parent code for each document; if non child code work, just label the parent code."
      ],
      "metadata": {
        "id": "J9KMOzLU82VH"
      }
    },
    {
      "cell_type": "markdown",
      "source": [
        "#### Prompt archive"
      ],
      "metadata": {
        "id": "APZxuPlnT8mz"
      }
    },
    {
      "cell_type": "code",
      "source": [
        "# prompt 0-0\n",
        "prompt_base = f\"\"\"\n",
        "You are provided with a paragraph from qualitative interviews and a codebook that contains parent and child codes for qualitative analysis. Each child code is associated with a description in the codebook.\n",
        "Please assist in performing qualitative coding for the paragraph from qualitative interviews based on the provided codebook. The codebook is in CSV format and contains four useful columns for this task: 'Parent', 'Child', 'Child_description' and 'Key words'.\n",
        "\n",
        "Here's how you should proceed:\n",
        "\n",
        "1. Review the codebook:\n",
        "   - The 'Parent' is a categorical label for the broader theme or category.\n",
        "   - The 'Child' is a categorical label for the detailed theme.\n",
        "   - The 'Child_description' provides a detailed description of what each child code in corresponding 'Child' represents.\n",
        "   - The 'Key words' provides high frequent words that are mentioned in a child code in 'Child'.\n",
        "\n",
        "2. For the paragraph from the qualitative interviews, assign a code from the codebook. Use the following steps:\n",
        "   a. Read the paragraph.\n",
        "   b. Refer to the codebook to find the most appropriate 'Parent', 'Child', and 'Child_description' for this paragraph.\n",
        "   c. Provide the 'Parent', 'Child', and 'Child_description' as labels for this paragraph.\n",
        "\n",
        "Here is a snippet from the codebook:\n",
        "{codebook}\n",
        "\n",
        "--- Paragraph to Label ---\n",
        "[TEXTGOHERE]\n",
        "\n",
        "Your task is to label the paragraph from the qualitative interviews based on the codes defined in the codebook. For each paragraph, identify the relevant parent code and child code from the codebook and provide a brief reasoning of why you selected that child code.\n",
        "Please ensure that the labels you assign accurately represent the content of the paragraph. If you are uncertain or if a paragraph does not fit any code from the codebook, please return 'None'.\n",
        "\n",
        "Format your response as a JSON object with 3 keys where\n",
        "“Parent code”, “Child code”, and “Reasoning” as the keys.\n",
        "\"\"\""
      ],
      "metadata": {
        "id": "hGg78XOp-x6a"
      },
      "execution_count": null,
      "outputs": []
    },
    {
      "cell_type": "code",
      "source": [
        "# prompt 1\n",
        "prompt_base = f\"\"\"\n",
        "You are a policy researcher. You are provided with a Paragraph from a transcript of an interview with an education policy stakeholder.\n",
        "Your task is to performing qualitative coding for the Paragraph using the Codebook provided below. The Codebook contains four useful columns for this task: 'Parent', 'Child', 'Child_description' and 'Key words'.\n",
        "\n",
        "First, review the Codebook:\n",
        "   - 'Parent' column includes categorical labels for broader themes or categories.\n",
        "   - 'Child' column includes categorical labels for detailed themes, nested within corresponding 'Parent' categories.\n",
        "   - 'Child_description' column provides detailed descriptions of what corresponding 'Child' represents.\n",
        "   - 'Key words' column provides highly frequent words that are relevant to corresponding 'Child' categories.\n",
        "\n",
        "Second, using the Codebook, identify the top three most prevalient themes in each Paragraph by following the following steps:\n",
        "   a. Read the Paragraph and understand the meaning in the context of Washington State K-12 public school system;\n",
        "   b. Refer to the Codebook to identify three most salient themes emerge from the paragraph using 'Child' based on corresponding 'Child_description'; only when you cannot identify any appropriate child code, use the Parent. Show your reasoning behind your classifications;\n",
        "   c. If a Paragraph does not fit any Child and Parent category from the Codebook, please return 'None'.\n",
        "\n",
        "Here is the Codebook:\n",
        "{codebook}\n",
        "\n",
        "--- Paragraph ---\n",
        "[TEXTGOHERE]\n",
        "\n",
        "Format your response as a JSON object with 3 keys where\n",
        "“Theme 1”, “Theme 2”, “Theme 3” and “Reasoning” as the keys.\n",
        "\"\"\""
      ],
      "metadata": {
        "id": "1qoTtwyj81lq"
      },
      "execution_count": null,
      "outputs": []
    },
    {
      "cell_type": "code",
      "source": [
        "# prompt 1-0 remove keywords, up to 3, simplify steps\n",
        "prompt_base = f\"\"\"\n",
        "You are a policy researcher. You are provided with a Paragraph from a transcript of an interview with an education policy stakeholder.\n",
        "Your task is to use the Codebook in CSV format to code Paragraph from the interview transcript.\n",
        "\n",
        "First, review and understand the Codebook:\n",
        "   - 'Parent' column includes categorical labels for broader themes.\n",
        "   - 'Child' column includes categorical labels for subthemes, nested within corresponding 'Parent' categories.\n",
        "   - 'Child_description' column provides detailed descriptions of subcategories acco 'Child' represents.\n",
        "\n",
        "Second, using the Codebook, identify up to three the most salient themes in each Paragraph, which cover the most noticeable, central, important idea conveyed in the Paragraph, by following the following steps:\n",
        "   a. Read the Paragraph and understand the meaning in the context of Washington State K-12 public school system.\n",
        "   b. Identify up to three most salient themes from the 'Child' categories, based on 'Child_description'. ONLY if you could not identify an appropriate 'Child' categories, you can use the 'Parent' categories.\n",
        "   c. If a Paragraph does not fit any Child or Parent categories from the Codebook, return 'None'.\n",
        "   d. Review the identified themes, if they do not reflect the most salient themes of the Paragraph, repeat step a-c for 3 time maximum.\n",
        "   e. Provide the identified themes as labels for this Paragraph and show your reasoning behind your classifications.\n",
        "\n",
        "Here is the Codebook:\n",
        "{codebook}\n",
        "\n",
        "--- Paragraph ---\n",
        "[TEXTGOHERE]\n",
        "\n",
        "Format your response as a JSON object with 4 keys where\n",
        "“Theme 1”, “Theme 2”, “Theme 3” and “Reasoning” as the keys.\n",
        "\"\"\""
      ],
      "metadata": {
        "id": "ybmLuuCtA2_U"
      },
      "execution_count": null,
      "outputs": []
    },
    {
      "cell_type": "code",
      "source": [
        "# prompt 1-0 remove keywords, up to 3, simplify steps\n",
        "prompt_base1 = f\"\"\"\n",
        "You are a policy researcher. You are provided with a Paragraph from a transcript of an interview with an education policy stakeholder.\n",
        "Your task is to use the Codebook in CSV format to code Paragraph from the interview transcript.\n",
        "\n",
        "First, review the Codebook:\n",
        "   - 'Parent' column includes categorical labels for broader themes.\n",
        "   - 'Child' column includes categorical labels for detailed themes, nested within corresponding 'Parent' categories.\n",
        "   - 'Child_description' column provides detailed descriptions of what each child category in 'Child' represents.\n",
        "\n",
        "Second, using the Codebook, identify three most salient themes in each Paragraph, which cover the most noticeable, central, important idea conveyed in the Paragraph, by following the following steps:\n",
        "   a. Read the Paragraph and understand the meaning in the context of Washington State K-12 public school system.\n",
        "   b. Identify three most salient themes from the 'Child' categories, based on 'Child_description'. ONLY if you could not identify an appropriate 'Child' categories, you can use the 'Parent' categories.\n",
        "   c. Review the three identified themes, if they do not reflect the most salient themes of the Paragraph, repeat step a-b for 3 time maximum. If a Paragraph does not fit any Child or Parent categories from the Codebook, return 'None'.\n",
        "   d. Provide the identified themes as labels for this Paragraph and show your reasoning behind your classifications.\n",
        "\n",
        "Here is the Codebook:\n",
        "{codebook}\n",
        "\n",
        "--- Paragraph ---\n",
        "[TEXTGOHERE]\n",
        "\n",
        "Format your response as a JSON object with 4 keys where\n",
        "“Theme 1”, “Theme 2”, “Theme 3” and “Reasoning” as the keys.\n",
        "\"\"\""
      ],
      "metadata": {
        "id": "Ug_c6g768VoG"
      },
      "execution_count": null,
      "outputs": []
    },
    {
      "cell_type": "code",
      "source": [
        "# v02\n",
        "prompt_base = f\"\"\"\n",
        "You are a policy researcher. You are provided with a Paragraph from a transcript of an interview with an education policy stakeholder.\n",
        "Your task is to use the Codebook in CSV format to code Paragraph from the interview transcript.\n",
        "\n",
        "First, review the Codebook:\n",
        "- 'Parent' column includes categorical labels for broader themes.\n",
        "- 'Child' column includes categorical labels for detailed themes, nested within corresponding 'Parent' categories.\n",
        "- 'Child_description' column provides detailed descriptions of what each child category in 'Child' represents.\n",
        "- 'Key words' column provides high-frequency words that are relevant to corresponding 'Child' categories.\n",
        "\n",
        "Second, using the Codebook, identify three most salient themes in each Paragraph, which cover the most noticeable, central, important idea conveyed in the Paragraph, by following the following steps:\n",
        "a. Read the Paragraph and understand the meaning in the context of Washington State K-12 public school system;\n",
        "b. Identify three of the most salient themes from the 'Child' categories, based on 'Child_description'; you can also refer to 'Key words'; ONLY if you could not identify an appropriate 'Child', you can use the 'Parent' categories. Provide the three identified themes as labels for this Paragraph and show your reasoning behind your classifications;\n",
        "c. Please ensure that the themes you identified accurately represent the content of the Paragraph; if a Paragraph does not fit any Child or Parent categories from the Codebook, return 'None'.\n",
        "\n",
        "Here is the Codebook:\n",
        "{codebook}\n",
        "\n",
        "--- Paragraph ---\n",
        "[TEXTGOHERE]\n",
        "\n",
        "Format your response as a JSON object with 4 keys where\n",
        "“Theme 1”, “Theme 2”, “Theme 3” and “Reasoning” as the keys.\n",
        "\"\"\"\n"
      ],
      "metadata": {
        "id": "nXfNaTmujDIb"
      },
      "execution_count": null,
      "outputs": []
    },
    {
      "cell_type": "markdown",
      "source": [
        "#### Prompt in use"
      ],
      "metadata": {
        "id": "tLe8sQFl8ODP"
      }
    },
    {
      "cell_type": "code",
      "source": [
        "# v03\n",
        "prompt_base = f\"\"\"\n",
        "You are a policy researcher. You are provided with a Paragraph from a transcript of an interview with an education policy stakeholder.\n",
        "Your task is to use the Codebook in CSV format to code Paragraph from the interview transcript.\n",
        "\n",
        "\n",
        "First, review and learn the Codebook:\n",
        "- 'Parent' column includes short labels for broader themes or categories of ideas.\n",
        "- 'Child' column includes labels for subcategories of corresponding 'Parent' categories.\n",
        "- 'Child_description' column provides narrative descriptions of 'Child' categories.\n",
        "- 'Key words' column provides high-frequency words that are relevant to corresponding 'Child' categories.\n",
        "\n",
        "\n",
        "Second, using the Codebook, identify the top three most salient themes in each Paragraph by following the following steps:\n",
        "a. Read the Paragraph and understand the meaning in the context of the Washington State K-12 public school system.\n",
        "b. Identify the three most salient themes using the 'Child' categories based on 'Child_description'. You can also refer to 'Key words'. Only when you cannot identify an appropriate Child category, you can label the Paragraph by using the Parent categories.\n",
        "c. Provide the three identified themes as labels for this Paragraph and show your reasoning behind your classifications.\n",
        "c. Review and ensure that the themes you identified accurately represent the content of the Paragraph. If a Paragraph does not fit any Child or Parent category from the Codebook, return 'None'.\n",
        "\n",
        "Here is a snippet from the Codebook:\n",
        "{codebook}\n",
        "\n",
        "--- Paragraph ---\n",
        "[TEXTGOHERE]\n",
        "\n",
        "\n",
        "Format your response as a JSON object with 4 keys where\n",
        "“Theme 1”, “Theme 2”, “Theme 3” and “Reasoning” as the keys.\n",
        "\"\"\"\n"
      ],
      "metadata": {
        "id": "wWRrcMUc8S15"
      },
      "execution_count": null,
      "outputs": []
    },
    {
      "cell_type": "code",
      "source": [
        "# Select a subset of text to test prompt\n",
        "#random_rows = df.sample(n=50, random_state=2023)\n",
        "t = df.iloc[8:10, ]"
      ],
      "metadata": {
        "id": "cLu_HLfWu6lz"
      },
      "execution_count": null,
      "outputs": []
    },
    {
      "cell_type": "code",
      "source": [
        "def create_prompt(doc_in):\n",
        "    return prompt_base.replace('TEXTGOHERE', doc_in)"
      ],
      "metadata": {
        "id": "bOWA8ARLNDCS"
      },
      "execution_count": null,
      "outputs": []
    },
    {
      "cell_type": "code",
      "source": [
        "output = []\n",
        "for index, row in tqdm(t.iterrows(), total = t.shape[0]):\n",
        "  codebook=codebook[['Parent', 'Child', 'Child_description', 'Key words']]\n",
        "  doc_in = row.documents # text column\n",
        "  output_current = label_topic(doc_in)\n",
        "  output.append(output_current)"
      ],
      "metadata": {
        "colab": {
          "base_uri": "https://localhost:8080/"
        },
        "id": "DuRMfiM98TSI",
        "outputId": "11f7e8ef-2cb9-40df-cf4f-959582c0dc2e"
      },
      "execution_count": null,
      "outputs": [
        {
          "output_type": "stream",
          "name": "stderr",
          "text": [
            "100%|██████████| 2/2 [00:03<00:00,  1.97s/it]\n"
          ]
        }
      ]
    },
    {
      "cell_type": "code",
      "source": [
        "print(output[0])"
      ],
      "metadata": {
        "id": "73mEZvnGVSfH",
        "colab": {
          "base_uri": "https://localhost:8080/"
        },
        "outputId": "a8143848-410c-4d2a-86e9-0054e2f2db83"
      },
      "execution_count": null,
      "outputs": [
        {
          "output_type": "stream",
          "name": "stdout",
          "text": [
            "{\n",
            "    \"Theme 1\": \"Curriculum and instruction\",\n",
            "    \"Theme 2\": \"Governance, leadership, and community partnership\",\n",
            "    \"Theme 3\": \"Staffing resources\",\n",
            "    \"Reasoning\": \"The paragraph discusses the quality of education in the region being teacher-dependent, indicating a focus on curriculum and instruction. It also highlights the importance of common understanding among teachers, administration, and state-level officials, pointing towards governance, leadership, and community partnership. Additionally, the mention of teachers with diverse backgrounds and experiences suggests a need for adequate staffing resources to support the varied needs of educators.\"\n",
            "}\n"
          ]
        }
      ]
    },
    {
      "cell_type": "markdown",
      "source": [
        "### Prompt 2 (Chain of thought): Step 1: label all parent codes with reasoning; Step 2; label child code within each parent code. if none of the child code work, just keep the parent code."
      ],
      "metadata": {
        "id": "5dPWGezKMtNw"
      }
    },
    {
      "cell_type": "markdown",
      "source": [
        "#### Prompt archive"
      ],
      "metadata": {
        "id": "DYBg5tJsw_kr"
      }
    },
    {
      "cell_type": "code",
      "source": [
        "prompt_base2 = f\"\"\"\n",
        "You are a policy researcher. You are provided with a Paragraph from a transcript of an interview with an education policy stakeholder.\n",
        "Your task is to use the Codebook in CSV format to code Paragraph from the interview transcript. The Codebook contains four columns: 'Parent', 'Child', 'Child_description' and 'Key words'.\n",
        "\n",
        "Here's how you should proceed:\n",
        "\n",
        "1. Review parent code in the Codebook:\n",
        "   - 'Parent' column includes categorical labels for broader themes or categories.\n",
        "\n",
        "2. Using the Codebook, identify up to three the most salient themes in each Paragraph, which should cover the most noticeable, central, important idea conveyed in the Paragraph, by following the following steps:\n",
        "   a. Read the Paragraph and understand the meaning in the context of Washington State K-12 public school system;\n",
        "   b. Identify up to three the most salient themes from the Parent categories.\n",
        "   c. Provide identified 'Parent' as label for this Paragraph.\n",
        "\n",
        "3. Review child code in the Codebook:\n",
        "   - 'Child' column includes categorical labels for detailed themes, nested within corresponding 'Parent' categories.\n",
        "   - 'Child_description' column provides detailed descriptions of what each child category in 'Child' represents.\n",
        "   - 'Key words' column provides highly frequent words that are relevant to corresponding 'Child' categories.\n",
        "\n",
        "4. Using the Codebook, within the an identified 'Parent' category, identify the most salient 'Child' categories. Use the following steps:\n",
        "   a. Read the Paragraph and understand the meaning in the context of Washington State K-12 public school system;\n",
        "   b. Refer to the Codebook, for each identified 'Parent' category, find the most appropriate subcategories from 'Child' for this Paragraph based on 'Child_description'. You can also refer to 'Key words'.\n",
        "   c. Please ensure that the 'Child' you assign accurately represent the content of the Paragraph. If you are uncertain or if a Paragraph does not fit any 'Child' categories from the Codebook, please return 'None'.\n",
        "   d. Review all identified 'Parent' and 'Child' pairs, select three pairs that represent the most noticeable, central, important idea conveyed in the Paragraph.\n",
        "   e. Provide identified three pairs of 'Parent' and their corresponding 'Child' as labels for this paragraph.\n",
        "\n",
        "Here is the Codebook:\n",
        "{codebook}\n",
        "\n",
        "--- Paragraph to Label ---\n",
        "[[[TEXTGOHERE]]]\n",
        "\n",
        "Format your response as a JSON object with 7 keys where\n",
        "'Parent 1', 'Child 1', 'Parent 2', 'Child 2', 'Parent3', 'Child 3', and 'Reasoning' as the keys.\n",
        "\"\"\""
      ],
      "metadata": {
        "id": "QcaRJUT0M0mM"
      },
      "execution_count": null,
      "outputs": []
    },
    {
      "cell_type": "code",
      "source": [
        "prompt_base2_1 = f\"\"\"\n",
        "You are a policy researcher. You are provided with a Paragraph from a transcript of an interview with an education policy stakeholder.\n",
        "Your task is to use the Codebook in CSV format to code Paragraph from the interview transcript. The Codebook contains four columns: 'Parent', 'Child', 'Child_description' and 'Key words'.\n",
        "\n",
        "Here's how you should proceed:\n",
        "\n",
        "1. Using the Codebook, identify up to three the most salient themes in each Paragraph, which should cover the most noticeable, central, important idea conveyed in the Paragraph, by following the following steps:\n",
        "a. Read the Paragraph and understand the meaning in the context of Washington State K-12 public school system;\n",
        "b. Review Parent Code in the Codebook: ‘Parent’ column includes categorical labels for broader themes\n",
        "c. Identify up to three the most salient themes from the Parent categories.\n",
        "d. Provide identified 'Parent' as label for this Paragraph.\n",
        "\n",
        "2. Review child code in the Codebook:\n",
        "- 'Child' column includes categorical labels for detailed themes, nested within corresponding 'Parent' categories.\n",
        "- 'Child_description' column provides detailed descriptions of what each child category in 'Child' represents.\n",
        "- 'Key words' column provides highly frequent words that are relevant to corresponding 'Child' categories.\n",
        "\n",
        "3. Using the Codebook, within the an identified 'Parent' category, identify the most salient 'Child' categories. Use the following steps:\n",
        "a. Read the Paragraph and understand the meaning in the context of Washington State K-12 public school system;\n",
        "b. Refer to the Codebook, for each identified 'Parent' category, find the most appropriate subcategories from 'Child' for this Paragraph based on 'Child_description'. You can also refer to 'Key words'.\n",
        "c. Please ensure that the 'Child' you assign accurately represents the content of the Paragraph. If you are uncertain or if a Paragraph does not fit any 'Child' categories from the Codebook, please return 'None'.\n",
        "d. Review all identified 'Parent' and 'Child' pairs, select three pairs that represent the most noticeable, central, important idea conveyed in the Paragraph.\n",
        "e. Provide identified three 'Parent' and their corresponding 'Child' as labels for this paragraph.\n",
        "\n",
        "Here is the Codebook:\n",
        "{codebook}\n",
        "\n",
        "--- Paragraph to Label ---\n",
        "[[[TEXTGOHERE]]]\n",
        "\n",
        "Format your response as a JSON object with 7 keys where\n",
        "'Parent 1', 'Child 1', 'Parent 2', 'Child 2', 'Parent3', 'Child 3', and 'Reasoning' as the keys.\n",
        "\"\"\"\n"
      ],
      "metadata": {
        "id": "ZfpnTLXCo6Wx"
      },
      "execution_count": null,
      "outputs": []
    },
    {
      "cell_type": "markdown",
      "source": [
        "#### Prompt in use"
      ],
      "metadata": {
        "id": "yiCB7c70xD0R"
      }
    },
    {
      "cell_type": "code",
      "source": [
        "prompt_base2 = f\"\"\"\n",
        "Task: As a policy researcher, you’ve been provided with a paragraph extracted from an interview with an education policy stakeholder. Utilize the provided Codebook (in CSV format) to code the paragraph. The Codebook comprises four columns: ‘Parent’, ‘Child’, ‘Child_description’, and ‘Key words’.\n",
        "\n",
        "Steps:\n",
        "1. Identify Salient Themes:\n",
        "Understand the paragraph’s content within the context of the Washington State K-12 public school system.\n",
        "Refer to the ‘Parent’ column in the Codebook for broader thematic categories.\n",
        "Pinpoint up to three salient themes from these ‘Parent’ categories.\n",
        "These themes should highlight the most significant ideas in the paragraph.\n",
        "Label the paragraph with the chosen ‘Parent’ themes.\n",
        "\n",
        "2. Dive into Child Themes:\n",
        "The ‘Child’ column in the Codebook lists detailed thematic subcategories, which fall under the broader ‘Parent’ categories.\n",
        "The ‘Child_description’ elaborates on the ‘Child’ categories, and the ‘Key words’ column lists pertinent terms for each ‘Child’ category.\n",
        "\n",
        "3. Associate with Child Categories:\n",
        "Revisit the paragraph, keeping the Washington State K-12 public school system context in mind.\n",
        "For each previously identified ‘Parent’ theme, pinpoint the apt ‘Child’ subcategories from the Codebook. The ‘Child_description’ and ‘Key words’ columns can aid your decision.\n",
        "Ensure the ‘Child’ categories align with the paragraph’s content. If there’s no fit or you’re uncertain, label it as ‘None’.\n",
        "From your identified ‘Parent’ and ‘Child’ pairs, pick the top three pairs that encapsulate the paragraph’s central ideas.\n",
        "Label the paragraph with these three ‘Parent’ and corresponding ‘Child’ pairs.\n",
        "\n",
        "Codebook:\n",
        "{codebook}\n",
        "\n",
        "Paragraph for Analysis:\n",
        "[[[TEXTGOHERE]]]\n",
        "\n",
        "Response Format:\n",
        "Frame your answer as a JSON object containing the keys: ‘Parent 1’, ‘Child 1’, ‘Parent 2’, ‘Child 2’, ‘Parent 3’, ‘Child 3’, and ‘Reasoning’.\n",
        "\"\"\""
      ],
      "metadata": {
        "id": "hqunnZiBtR5_"
      },
      "execution_count": null,
      "outputs": []
    },
    {
      "cell_type": "code",
      "source": [
        "def create_prompt(doc_in):\n",
        "    return prompt_base2.replace('TEXTGOHERE', doc_in)"
      ],
      "metadata": {
        "id": "VrlN4Ghh7QXL"
      },
      "execution_count": null,
      "outputs": []
    },
    {
      "cell_type": "code",
      "source": [
        "t = df.iloc[8:10, ]"
      ],
      "metadata": {
        "id": "SDgDxSMDEslJ"
      },
      "execution_count": null,
      "outputs": []
    },
    {
      "cell_type": "code",
      "source": [
        "output2 = []\n",
        "for index, row in tqdm(t.iterrows(), total = t.shape[0]):\n",
        "        doc_in = row.documents\n",
        "        output_current = label_topic(doc_in)\n",
        "        output2.append(output_current)"
      ],
      "metadata": {
        "colab": {
          "base_uri": "https://localhost:8080/"
        },
        "id": "6_7GLgaoEmnW",
        "outputId": "eb503109-14d8-4f06-9d22-af5f99d50fad"
      },
      "execution_count": null,
      "outputs": [
        {
          "output_type": "stream",
          "name": "stderr",
          "text": [
            "100%|██████████| 2/2 [00:18<00:00,  9.31s/it]\n"
          ]
        }
      ]
    },
    {
      "cell_type": "code",
      "source": [
        "# cot prompt results\n",
        "print(output2[0])"
      ],
      "metadata": {
        "colab": {
          "base_uri": "https://localhost:8080/"
        },
        "id": "KiXirhoRxZ1V",
        "outputId": "fbe4c1f0-3822-42ad-a8e0-a1bbd7ff4161"
      },
      "execution_count": null,
      "outputs": [
        {
          "output_type": "stream",
          "name": "stdout",
          "text": [
            "{\n",
            "  \"Parent 1\": \"Staffing resources\",\n",
            "  \"Child 1\": \"Mentoring, coaching, and teacher learning\",\n",
            "  \"Parent 2\": \"Curriculum and instruction\",\n",
            "  \"Child 2\": \"Curriculum development and instructional delivery\",\n",
            "  \"Parent 3\": \"System supports and interventions\",\n",
            "  \"Child 3\": \"School system support and improvement\",\n",
            "  \"Reasoning\": \"The paragraph primarily discusses the topic of new teachers and their experience in the classroom, specifically their lack of prior student teaching experience. This falls under the 'Parent' category of 'Staffing resources', and more specifically the 'Child' category 'Mentoring, coaching, and teacher learning' as it touches on the need for teaching experience before becoming educators. The 'Parent' category of 'Curriculum and instruction' and 'Child' category 'Curriculum development and instructional delivery' are also relevant as the paragraph implies the need for practical experience in delivering instruction. Finally, 'System supports and interventions' and 'School system support and improvement' are also applicable as the paragraph suggests the need for system-level improvements to ensure new teachers gain practical experience.\"\n",
            "}\n"
          ]
        }
      ]
    },
    {
      "cell_type": "code",
      "source": [
        "# zero-shot prompt results\n",
        "print(output[0])"
      ],
      "metadata": {
        "colab": {
          "base_uri": "https://localhost:8080/"
        },
        "id": "wNveCnF0x-F5",
        "outputId": "6ad9939f-29a1-4a96-df2c-713068e94a8e"
      },
      "execution_count": null,
      "outputs": [
        {
          "output_type": "stream",
          "name": "stdout",
          "text": [
            "{\n",
            "  \"Theme 1\": \"Mentoring, coaching, and teacher learning\",\n",
            "  \"Theme 2\": \"Instructional programs\",\n",
            "  \"Theme 3\": \"Curriculum development and instructional delivery\",\n",
            "  \"Reasoning\": \"The paragraph discusses the challenges faced by new teachers who didn't have the opportunity to gain student teaching experience. This relates to the 'Mentoring, coaching, and teacher learning' theme because it's about providing support and learning opportunities for new teachers. The mention of teachers being inside a classroom for the first time also touches on 'Instructional programs' and 'Curriculum development and instructional delivery' as they are expected to deliver curriculum and instruction for the first time.\"\n",
            "}\n"
          ]
        }
      ]
    },
    {
      "cell_type": "markdown",
      "source": [
        "## Sentiment Analysis"
      ],
      "metadata": {
        "id": "Co7Dh5sfaKrL"
      }
    },
    {
      "cell_type": "code",
      "source": [],
      "metadata": {
        "id": "5VJVNWvxaPHo"
      },
      "execution_count": null,
      "outputs": []
    },
    {
      "cell_type": "code",
      "source": [],
      "metadata": {
        "id": "7eg9D2jOaPKB"
      },
      "execution_count": null,
      "outputs": []
    },
    {
      "cell_type": "code",
      "source": [],
      "metadata": {
        "id": "0HKLK4mYaPM1"
      },
      "execution_count": null,
      "outputs": []
    },
    {
      "cell_type": "code",
      "source": [],
      "metadata": {
        "id": "IsS8gEeSaPP4"
      },
      "execution_count": null,
      "outputs": []
    }
  ]
}